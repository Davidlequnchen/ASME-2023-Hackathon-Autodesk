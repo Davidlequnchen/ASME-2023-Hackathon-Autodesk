{
 "cells": [
  {
   "cell_type": "markdown",
   "metadata": {},
   "source": [
    "# An example showing how to load data and a GPT baseline\n",
    "This notebook will run you through an example to:\n",
    "- Read the name of each body in the train assemblies (this can be expanded to read other information about the bodies, like their volume or corresponding image/STEP files)\n",
    "- Read the ground truth material of each body\n",
    "- Create a train/validation split to evaluate the effectiveness of the baseline\n",
    "- Predict the material of each body just from its name using a Large Language Model (LLM)\n",
    "- Evaluate the predictions of the validation data by calculating the f1 score and showing a confusion matrix\n",
    "\n",
    "As we are using OpenAI's API, you will have to provide your own API key, or modify this code to use an open source LLM."
   ]
  },
  {
   "cell_type": "markdown",
   "metadata": {},
   "source": [
    "## Setup"
   ]
  },
  {
   "cell_type": "code",
   "execution_count": 1,
   "metadata": {
    "collapsed": false,
    "jupyter": {
     "outputs_hidden": false
    }
   },
   "outputs": [],
   "source": [
    "import openai\n",
    "from pathlib import Path\n",
    "import json\n",
    "from tqdm import tqdm\n",
    "import matplotlib.pyplot as plt\n",
    "from sklearn.metrics import confusion_matrix, ConfusionMatrixDisplay, classification_report\n",
    "import backoff\n",
    "import time\n",
    "from collections import Counter\n",
    "from sklearn.model_selection import train_test_split"
   ]
  },
  {
   "cell_type": "markdown",
   "metadata": {},
   "source": [
    "Add your OpenAI API key here ([register for an OpenAI](https://openai.com/blog/openai-api/) key and take advantage of the free trial), or use an open source LLM"
   ]
  },
  {
   "cell_type": "code",
   "execution_count": 2,
   "metadata": {
    "ExecuteTime": {
     "end_time": "2023-07-07T17:18:44.703509200Z",
     "start_time": "2023-07-07T17:18:41.590504900Z"
    },
    "collapsed": false,
    "jupyter": {
     "outputs_hidden": false
    }
   },
   "outputs": [],
   "source": [
    "openai.api_key  = \"open_ai_key\""
   ]
  },
  {
   "cell_type": "code",
   "execution_count": 3,
   "metadata": {
    "ExecuteTime": {
     "end_time": "2023-07-07T17:22:54.763692Z",
     "start_time": "2023-07-07T17:22:54.745688200Z"
    },
    "collapsed": false,
    "jupyter": {
     "outputs_hidden": false
    },
    "pycharm": {
     "name": "#%%\n"
    }
   },
   "outputs": [],
   "source": [
    "def get_completion(prompt='', model=\"gpt-3.5-turbo\", temperature=0, max_tokens=200):\n",
    "    messages = [{\"role\": \"user\", \"content\": prompt}]\n",
    "\n",
    "    try:\n",
    "        response = openai.ChatCompletion.create(\n",
    "            model=model,\n",
    "            messages=messages,\n",
    "            temperature=temperature,\n",
    "            max_tokens=6\n",
    "        )\n",
    "        response = response.choices[0].message[\"content\"]\n",
    "    except openai.error.APIError as e:\n",
    "        print(f\"OpenAI API Error: {e}\")\n",
    "        response = \"ERROR\"\n",
    "    except openai.error.APIConnectionError as e:\n",
    "        print(f\"OpenAI API Connection Error: {e}\")\n",
    "        response = \"ERROR\"\n",
    "    except Exception as e:\n",
    "        # print(f\"Exception: {e}\")\n",
    "        response = \"ERROR\"\n",
    "    return response\n",
    "\n",
    "@backoff.on_exception(backoff.expo, openai.error.RateLimitError)\n",
    "def get_completion_with_backoff(**kwargs):\n",
    "    time.sleep(0.1)\n",
    "    return get_completion(**kwargs)"
   ]
  },
  {
   "cell_type": "code",
   "execution_count": 4,
   "metadata": {},
   "outputs": [],
   "source": [
    "def get_completion_gpt4(prompt='', model=\"gpt-4.0-turbo\", temperature=0, max_tokens=200):\n",
    "    messages = [{\"role\": \"user\", \"content\": prompt}]\n",
    "\n",
    "    try:\n",
    "        response = openai.ChatCompletion.create(\n",
    "            model=model,\n",
    "            messages=messages,\n",
    "            temperature=temperature,\n",
    "            max_tokens=6\n",
    "        )\n",
    "        response = response.choices[0].message[\"content\"]\n",
    "    except openai.error.APIError as e:\n",
    "        print(f\"OpenAI API Error: {e}\")\n",
    "        response = \"ERROR\"\n",
    "    except openai.error.APIConnectionError as e:\n",
    "        print(f\"OpenAI API Connection Error: {e}\")\n",
    "        response = \"ERROR\"\n",
    "    except Exception as e:\n",
    "        response = \"ERROR\"\n",
    "    return response\n",
    "\n",
    "@backoff.on_exception(backoff.expo, openai.error.RateLimitError)\n",
    "def get_completion_with_backoff(**kwargs):\n",
    "    time.sleep(0.1)\n",
    "    return get_completion_gpt4(**kwargs)"
   ]
  },
  {
   "cell_type": "code",
   "execution_count": 5,
   "metadata": {
    "ExecuteTime": {
     "end_time": "2023-07-07T17:18:44.771506100Z",
     "start_time": "2023-07-07T17:18:44.724506100Z"
    },
    "collapsed": false,
    "jupyter": {
     "outputs_hidden": false
    },
    "pycharm": {
     "name": "#%%\n"
    }
   },
   "outputs": [],
   "source": [
    "def get_all_files(directory, pattern):\n",
    "    return [f for f in Path(directory).glob(pattern)]"
   ]
  },
  {
   "cell_type": "code",
   "execution_count": 6,
   "metadata": {
    "ExecuteTime": {
     "end_time": "2023-07-07T17:18:44.772504500Z",
     "start_time": "2023-07-07T17:18:44.743457900Z"
    },
    "collapsed": false,
    "jupyter": {
     "outputs_hidden": false
    },
    "pycharm": {
     "name": "#%%\n"
    }
   },
   "outputs": [],
   "source": [
    "def id2name(id):\n",
    "    id = id.lower()\n",
    "    # id = id.rstrip()\n",
    "    if id == 'metal_non-ferrous':\n",
    "        return 'non-ferrous metal'\n",
    "    elif id == 'metal_ferrous':\n",
    "        return 'ferrous metal'\n",
    "    elif id == 'metal_ferrous_steel':\n",
    "        return 'steel'\n",
    "    elif id == 'metal_aluminum':\n",
    "        return 'aluminum'\n",
    "    elif id in ['other', 'wood', 'plastic']:\n",
    "        return id\n",
    "    else:\n",
    "        raise f\"Non-default id! {id}\"\n",
    "        # return 'other'"
   ]
  },
  {
   "cell_type": "code",
   "execution_count": 7,
   "metadata": {
    "ExecuteTime": {
     "end_time": "2023-07-07T19:06:47.712267400Z",
     "start_time": "2023-07-07T19:06:47.697235Z"
    },
    "collapsed": false,
    "jupyter": {
     "outputs_hidden": false
    },
    "pycharm": {
     "name": "#%%\n"
    }
   },
   "outputs": [],
   "source": [
    "def show_confusion_matrix(y_true, y_pred, classes=None, normalize=None):\n",
    "    cm = confusion_matrix(y_true, y_pred, normalize=normalize, labels=classes)\n",
    "    disp = ConfusionMatrixDisplay(confusion_matrix=cm, display_labels=classes)\n",
    "    disp.plot(xticks_rotation=45)\n",
    "    plt.tight_layout()\n",
    "    plt.show()"
   ]
  },
  {
   "cell_type": "code",
   "execution_count": 8,
   "metadata": {
    "ExecuteTime": {
     "end_time": "2023-07-07T17:45:23.753030700Z",
     "start_time": "2023-07-07T17:45:23.718031100Z"
    },
    "collapsed": false,
    "jupyter": {
     "outputs_hidden": false
    },
    "pycharm": {
     "name": "#%%\n"
    }
   },
   "outputs": [],
   "source": [
    "def post_process_response(response):\n",
    "    if 'non-ferrous metal' in response:\n",
    "        return 'non-ferrous metal'\n",
    "    elif 'aluminum' in response:\n",
    "        return 'aluminum'\n",
    "    elif 'steel' in response:\n",
    "        return 'steel'\n",
    "    elif 'wood' in response:\n",
    "        return 'wood'\n",
    "    elif 'plastic' in response:\n",
    "        return 'plastic'\n",
    "    elif 'ferrous metal' in response:\n",
    "        return 'ferrous metal'\n",
    "    elif 'other' in response:\n",
    "        return 'other'\n",
    "    else:\n",
    "        # print(f\"incorrect response: {response}\\n\")\n",
    "        return 'other'"
   ]
  },
  {
   "cell_type": "markdown",
   "metadata": {
    "pycharm": {
     "name": "#%% md\n"
    }
   },
   "source": [
    "## Read the material and names of bodies in assemlies\n",
    "Loop through each of the 'assembly.json' files in the dataset, and read the name and material_categeory of each body in the assembly.\n",
    "As some bodies do not have a custom name, but the default name 'body#', we will filter those out as our LLM baseline cannot predict those."
   ]
  },
  {
   "cell_type": "code",
   "execution_count": 9,
   "metadata": {
    "ExecuteTime": {
     "end_time": "2023-07-07T17:19:12.873928300Z",
     "start_time": "2023-07-07T17:19:12.364977400Z"
    },
    "collapsed": false,
    "jupyter": {
     "outputs_hidden": false
    },
    "pycharm": {
     "name": "#%%\n"
    }
   },
   "outputs": [],
   "source": [
    "# input_dir = r\"D:\\FusionGallery\\Fusion360GalleryDataset_23hackathon\"  \n",
    "input_dir = r\"D:\\Dataset\\ASME-Hackathon-2023-Autodesk\\train_data\\Fusion360GalleryDataset_23hackathon_train\"\n",
    "input_jsons = get_all_files(input_dir, \"*/assembly.json\")"
   ]
  },
  {
   "cell_type": "code",
   "execution_count": 10,
   "metadata": {
    "ExecuteTime": {
     "end_time": "2023-07-07T17:19:31.662332500Z",
     "start_time": "2023-07-07T17:19:13.489277Z"
    },
    "collapsed": false,
    "jupyter": {
     "outputs_hidden": false
    },
    "pycharm": {
     "name": "#%%\n"
    }
   },
   "outputs": [
    {
     "name": "stderr",
     "output_type": "stream",
     "text": [
      "100%|█████████████████████████████████████████████████████████████████████████████| 6336/6336 [00:42<00:00, 150.46it/s]\n"
     ]
    }
   ],
   "source": [
    "assemblies = {}\n",
    "for input_json in tqdm(input_jsons):\n",
    "    with open(input_json, \"r\", encoding=\"utf-8\") as f:\n",
    "        assembly_data = json.load(f)\n",
    "\n",
    "    bodies = []\n",
    "    for key, value in assembly_data['bodies'].items():\n",
    "        name = value['name']\n",
    "        material = value['material_category']\n",
    "\n",
    "        if name[:4] != 'Body':  # some of the bodies do not have a custom name. This filters those bodies out.\n",
    "            bodies.append({'name':name, 'material':material})\n",
    "\n",
    "    if len(bodies) > 0:\n",
    "        assemblies[input_json.parts[-2]] = bodies"
   ]
  },
  {
   "cell_type": "code",
   "execution_count": 11,
   "metadata": {
    "ExecuteTime": {
     "end_time": "2023-07-07T17:21:41.399350Z",
     "start_time": "2023-07-07T17:21:41.377271Z"
    },
    "collapsed": false,
    "jupyter": {
     "outputs_hidden": false
    },
    "pycharm": {
     "name": "#%%\n"
    }
   },
   "outputs": [
    {
     "name": "stdout",
     "output_type": "stream",
     "text": [
      "Number of total assemblies in the training set: 6336\n",
      "Number of assemblies that have at least one non-default part name: 1165\n"
     ]
    }
   ],
   "source": [
    "print(f\"Number of total assemblies in the training set: {len(input_jsons)}\")\n",
    "print(f\"Number of assemblies that have at least one non-default part name: {len(assemblies)}\")"
   ]
  },
  {
   "cell_type": "markdown",
   "metadata": {},
   "source": [
    "## Split the *train* set into *train* and *validation*"
   ]
  },
  {
   "cell_type": "code",
   "execution_count": 12,
   "metadata": {
    "ExecuteTime": {
     "end_time": "2023-07-07T17:22:04.983028Z",
     "start_time": "2023-07-07T17:22:04.816436700Z"
    },
    "collapsed": false,
    "jupyter": {
     "outputs_hidden": false
    },
    "scrolled": true
   },
   "outputs": [],
   "source": [
    "body_list = [assembly_data for assembly_data in assemblies.values()]\n",
    "\n",
    "train_assemblies, validation_assemblies = train_test_split(body_list, test_size=0.2, shuffle=True, random_state=0)"
   ]
  },
  {
   "cell_type": "code",
   "execution_count": 13,
   "metadata": {
    "ExecuteTime": {
     "end_time": "2023-07-07T17:22:06.013029100Z",
     "start_time": "2023-07-07T17:22:05.965017600Z"
    },
    "collapsed": false,
    "jupyter": {
     "outputs_hidden": false
    }
   },
   "outputs": [
    {
     "name": "stdout",
     "output_type": "stream",
     "text": [
      "number of train assemblies: 932\n",
      "number of validation assemblies: 233\n"
     ]
    }
   ],
   "source": [
    "print(f\"number of train assemblies: {len(train_assemblies)}\")\n",
    "print(f\"number of validation assemblies: {len(validation_assemblies)}\")"
   ]
  },
  {
   "cell_type": "markdown",
   "metadata": {
    "pycharm": {
     "name": "#%% md\n"
    }
   },
   "source": [
    "## Make predictions for all bodies in the validation assemblies"
   ]
  },
  {
   "cell_type": "code",
   "execution_count": 14,
   "metadata": {
    "ExecuteTime": {
     "end_time": "2023-07-07T17:22:23.033015100Z",
     "start_time": "2023-07-07T17:22:22.958995900Z"
    },
    "collapsed": false,
    "jupyter": {
     "outputs_hidden": false
    }
   },
   "outputs": [],
   "source": [
    "# Deduplicate bodies that have the same name\n",
    "\n",
    "body_names = []\n",
    "materials = []\n",
    "\n",
    "for assembly in validation_assemblies:\n",
    "    for body in assembly:\n",
    "        body_name = body['name']\n",
    "        material = body['material']\n",
    "        if body_name not in body_names:\n",
    "            body_names.append(body_name)\n",
    "            materials.append(material)"
   ]
  },
  {
   "cell_type": "code",
   "execution_count": 15,
   "metadata": {
    "ExecuteTime": {
     "end_time": "2023-07-07T17:22:24.375150500Z",
     "start_time": "2023-07-07T17:22:24.349105100Z"
    },
    "collapsed": false,
    "jupyter": {
     "outputs_hidden": false
    },
    "pycharm": {
     "name": "#%%\n"
    }
   },
   "outputs": [
    {
     "name": "stdout",
     "output_type": "stream",
     "text": [
      "Number of bodies before deduplication: 13885\n",
      "Number of bodies after deduplication: 1849\n"
     ]
    }
   ],
   "source": [
    "print(f\"Number of bodies before deduplication: {sum([len(assembly) for assembly in assemblies.values()])}\")\n",
    "print(f\"Number of bodies after deduplication: {len(body_names)}\")"
   ]
  },
  {
   "cell_type": "code",
   "execution_count": 16,
   "metadata": {
    "ExecuteTime": {
     "end_time": "2023-07-07T17:22:27.911058Z",
     "start_time": "2023-07-07T17:22:27.890056900Z"
    },
    "collapsed": false,
    "jupyter": {
     "outputs_hidden": false
    },
    "pycharm": {
     "name": "#%%\n"
    }
   },
   "outputs": [],
   "source": [
    "prompt = \"\"\"\n",
    "The following is the name of a part in an assembly.\n",
    "Given the name of the part, classify the material of the part as either of the following material categories: 'aluminum', 'ferrous metal', 'non-ferrous metal', 'steel', 'plastic', 'wood', or 'other'.\n",
    "If you are unsure, please answer 'other'. Only respond with the material category.\n",
    "\n",
    "\"\"\""
   ]
  },
  {
   "cell_type": "code",
   "execution_count": 17,
   "metadata": {
    "ExecuteTime": {
     "end_time": "2023-07-07T17:45:23.620031Z",
     "start_time": "2023-07-07T17:23:05.673145300Z"
    },
    "collapsed": false,
    "jupyter": {
     "outputs_hidden": false
    },
    "pycharm": {
     "name": "#%%\n"
    }
   },
   "outputs": [
    {
     "name": "stderr",
     "output_type": "stream",
     "text": [
      "100%|██████████████████████████████████████████████████████████████████████████████| 1849/1849 [08:27<00:00,  3.64it/s]\n"
     ]
    }
   ],
   "source": [
    "predicted_materials = []\n",
    "\n",
    "for body_name in tqdm(body_names):\n",
    "    full_prompt = prompt + f\"part name: {body_name}, material: \"\n",
    "    # print(full_prompt)\n",
    "\n",
    "    response = get_completion_with_backoff(prompt=full_prompt)\n",
    "\n",
    "    predicted_materials.append(response)\n",
    "\n"
   ]
  },
  {
   "cell_type": "code",
   "execution_count": 18,
   "metadata": {
    "ExecuteTime": {
     "end_time": "2023-07-07T17:45:23.694031600Z",
     "start_time": "2023-07-07T17:45:23.686031Z"
    },
    "collapsed": false,
    "jupyter": {
     "outputs_hidden": false
    },
    "pycharm": {
     "name": "#%%\n"
    }
   },
   "outputs": [
    {
     "name": "stdout",
     "output_type": "stream",
     "text": [
      "This is an example prompt that we sent to the LLM:\n",
      "\n",
      "\n",
      "\n",
      "The following is the name of a part in an assembly.\n",
      "Given the name of the part, classify the material of the part as either of the following material categories: 'aluminum', 'ferrous metal', 'non-ferrous metal', 'steel', 'plastic', 'wood', or 'other'.\n",
      "If you are unsure, please answer 'other'. Only respond with the material category.\n",
      "\n",
      "part name: mango destornillador, material: \n"
     ]
    }
   ],
   "source": [
    "print(f\"This is an example prompt that we sent to the LLM:\\n\\n\\n{full_prompt}\")\n"
   ]
  },
  {
   "cell_type": "code",
   "execution_count": 19,
   "metadata": {
    "ExecuteTime": {
     "end_time": "2023-07-07T17:45:23.711034100Z",
     "start_time": "2023-07-07T17:45:23.699031200Z"
    },
    "collapsed": false,
    "jupyter": {
     "outputs_hidden": false
    },
    "pycharm": {
     "name": "#%%\n"
    }
   },
   "outputs": [
    {
     "name": "stdout",
     "output_type": "stream",
     "text": [
      "This is an example reponse that we got from the LLM:\n",
      "\n",
      "\n",
      "ERROR\n"
     ]
    }
   ],
   "source": [
    "print(f\"This is an example reponse that we got from the LLM:\\n\\n\\n{response}\")"
   ]
  },
  {
   "cell_type": "code",
   "execution_count": 20,
   "metadata": {
    "ExecuteTime": {
     "end_time": "2023-07-07T01:52:01.772817400Z",
     "start_time": "2023-07-07T01:52:01.748811500Z"
    },
    "collapsed": false,
    "jupyter": {
     "outputs_hidden": false
    },
    "pycharm": {
     "name": "#%%\n"
    }
   },
   "outputs": [
    {
     "name": "stdout",
     "output_type": "stream",
     "text": [
      "We can count how many instances of each response we got:\n",
      "\n",
      "\n",
      "Counter({'ERROR': 1849})\n"
     ]
    }
   ],
   "source": [
    "print(f\"We can count how many instances of each response we got:\\n\\n\\n{Counter(predicted_materials)}\")"
   ]
  },
  {
   "cell_type": "markdown",
   "metadata": {},
   "source": [
    "## Post-processing responses\n",
    "As the LLM does not always do what we asked, we have to clean up the invalid responses.\n",
    "Also, we will modify the material id of the ground truth data in `materials` to match the post-processed reponses, using the `id2name` function"
   ]
  },
  {
   "cell_type": "code",
   "execution_count": 21,
   "metadata": {
    "ExecuteTime": {
     "end_time": "2023-07-07T17:45:23.784040200Z",
     "start_time": "2023-07-07T17:45:23.730031Z"
    },
    "collapsed": false,
    "jupyter": {
     "outputs_hidden": false
    },
    "pycharm": {
     "name": "#%%\n"
    }
   },
   "outputs": [],
   "source": [
    "predicted_materials_processed = [post_process_response(response) for response in predicted_materials]\n",
    "materials_processed = [id2name(material) for material in materials]"
   ]
  },
  {
   "cell_type": "code",
   "execution_count": 22,
   "metadata": {
    "ExecuteTime": {
     "end_time": "2023-07-07T18:05:17.695100600Z",
     "start_time": "2023-07-07T18:05:17.669050600Z"
    },
    "collapsed": false,
    "jupyter": {
     "outputs_hidden": false
    }
   },
   "outputs": [
    {
     "name": "stdout",
     "output_type": "stream",
     "text": [
      "We can count how many instances of each prediction we have after post-processing:\n",
      "\n",
      "Counter({'other': 1849})\n"
     ]
    }
   ],
   "source": [
    "print(f\"We can count how many instances of each prediction we have after post-processing:\\n\\n{Counter(predicted_materials_processed)}\")"
   ]
  },
  {
   "cell_type": "markdown",
   "metadata": {},
   "source": [
    "## Evaluating the results\n",
    "The confusion matrix and classification report are good ways to evaluate our method"
   ]
  },
  {
   "cell_type": "code",
   "execution_count": 23,
   "metadata": {
    "ExecuteTime": {
     "end_time": "2023-07-07T19:07:35.519885300Z",
     "start_time": "2023-07-07T19:07:35.107882200Z"
    },
    "collapsed": false,
    "jupyter": {
     "outputs_hidden": false
    },
    "pycharm": {
     "name": "#%%\n"
    }
   },
   "outputs": [
    {
     "data": {
      "image/png": "[encoded data removed]",
      "text/plain": [
       "<Figure size 640x480 with 2 Axes>"
      ]
     },
     "metadata": {},
     "output_type": "display_data"
    },
    {
     "name": "stdout",
     "output_type": "stream",
     "text": [
      "                   precision    recall  f1-score   support\n",
      "\n",
      "         aluminum       0.00      0.00      0.00       170\n",
      "    ferrous metal       0.00      0.00      0.00       104\n",
      "non-ferrous metal       0.00      0.00      0.00       215\n",
      "            other       0.19      1.00      0.32       347\n",
      "          plastic       0.00      0.00      0.00       358\n",
      "            steel       0.00      0.00      0.00       572\n",
      "             wood       0.00      0.00      0.00        83\n",
      "\n",
      "         accuracy                           0.19      1849\n",
      "        macro avg       0.03      0.14      0.05      1849\n",
      "     weighted avg       0.04      0.19      0.06      1849\n",
      "\n"
     ]
    },
    {
     "name": "stderr",
     "output_type": "stream",
     "text": [
      "C:\\Users\\Asus\\anaconda3\\envs\\autodesk\\lib\\site-packages\\sklearn\\metrics\\_classification.py:1469: UndefinedMetricWarning: Precision and F-score are ill-defined and being set to 0.0 in labels with no predicted samples. Use `zero_division` parameter to control this behavior.\n",
      "  _warn_prf(average, modifier, msg_start, len(result))\n",
      "C:\\Users\\Asus\\anaconda3\\envs\\autodesk\\lib\\site-packages\\sklearn\\metrics\\_classification.py:1469: UndefinedMetricWarning: Precision and F-score are ill-defined and being set to 0.0 in labels with no predicted samples. Use `zero_division` parameter to control this behavior.\n",
      "  _warn_prf(average, modifier, msg_start, len(result))\n",
      "C:\\Users\\Asus\\anaconda3\\envs\\autodesk\\lib\\site-packages\\sklearn\\metrics\\_classification.py:1469: UndefinedMetricWarning: Precision and F-score are ill-defined and being set to 0.0 in labels with no predicted samples. Use `zero_division` parameter to control this behavior.\n",
      "  _warn_prf(average, modifier, msg_start, len(result))\n"
     ]
    }
   ],
   "source": [
    "classes = ['aluminum', 'ferrous metal', 'non-ferrous metal', 'plastic', 'wood', 'steel', 'other']\n",
    "show_confusion_matrix(materials_processed, predicted_materials_processed, classes)\n",
    "print(classification_report(materials_processed, predicted_materials_processed))"
   ]
  },
  {
   "cell_type": "markdown",
   "metadata": {},
   "source": [
    "## Conclusion\n",
    "From the results we can see that the model is not doing very well.\n",
    "It achieves an accuracy of 0.26.\n",
    "From the confusion matrix we can see that most of the bodies are classified as `other`.\n",
    "\n",
    "This approach could be further improved by changing the prompt, providing more contextual information to the LLM, and many more ways.\n",
    "We look forward to seeing your solutions!"
   ]
  }
 ],
 "metadata": {
  "kernelspec": {
   "display_name": "Python 3 (ipykernel)",
   "language": "python",
   "name": "python3"
  },
  "language_info": {
   "codemirror_mode": {
    "name": "ipython",
    "version": 3
   },
   "file_extension": ".py",
   "mimetype": "text/x-python",
   "name": "python",
   "nbconvert_exporter": "python",
   "pygments_lexer": "ipython3",
   "version": "3.8.10"
  }
 },
 "nbformat": 4,
 "nbformat_minor": 4
}
