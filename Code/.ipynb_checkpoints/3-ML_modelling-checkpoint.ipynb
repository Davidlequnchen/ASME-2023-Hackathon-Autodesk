{
 "cells": [
  {
   "cell_type": "markdown",
   "id": "4bb4667c-c504-44b5-8cc7-25e70fefe572",
   "metadata": {},
   "source": [
    "# ASME Autodesk Hackathon 2023\n",
    "\n",
    "### Notebook 3: ML modelling\n",
    "\n",
    "- __Modelling__: Once the features are ready, they can be used to train a machine learning model. The labels in this case are the material categories.\n",
    "- __Evaluate__ the predictions of the validation data by calculating the f1 score and showing a confusion matrix"
   ]
  },
  {
   "cell_type": "markdown",
   "id": "5b026dd6-20a2-4a1d-8287-24d66c8e7432",
   "metadata": {},
   "source": [
    "## System Setup"
   ]
  },
  {
   "cell_type": "code",
   "execution_count": 1,
   "id": "a1167f6b-e932-4d98-baf5-611fc7ed9f32",
   "metadata": {},
   "outputs": [
    {
     "name": "stderr",
     "output_type": "stream",
     "text": [
      "Intel(R) Extension for Scikit-learn* enabled (https://github.com/intel/scikit-learn-intelex)\n"
     ]
    }
   ],
   "source": [
    "from sklearnex import patch_sklearn, config_context\n",
    "# import dpctl\n",
    "patch_sklearn()"
   ]
  },
  {
   "cell_type": "code",
   "execution_count": 2,
   "id": "76bad453-cf72-4662-8b19-56dc105374ab",
   "metadata": {},
   "outputs": [],
   "source": [
    "## Required python libraries\n",
    "import pandas as pd\n",
    "import numpy as np\n",
    "import scipy as sp\n",
    "import os\n",
    "import math\n",
    "import sys\n",
    "import itertools\n",
    "from pandas import DataFrame\n",
    "\n",
    "import matplotlib as mpl\n",
    "import matplotlib.pyplot as plt\n",
    "from matplotlib.pyplot import gca\n",
    "mpl.rc('axes', labelsize=14)\n",
    "mpl.rc('xtick', labelsize=12)\n",
    "mpl.rc('ytick', labelsize=12)\n",
    "%matplotlib inline\n",
    "import seaborn as sns\n",
    "\n",
    "# For data standardization (transformation of the data onto unit scale (mean=0 and variance=1), required in most machine learning)\n",
    "from sklearn.preprocessing import StandardScaler\n",
    "# For K Nearest Neighbours:\n",
    "from sklearn import neighbors\n",
    "# For support vector machine:\n",
    "from sklearn import svm\n",
    "# For Gaussian process:\n",
    "from sklearn.gaussian_process import GaussianProcessClassifier\n",
    "from sklearn.ensemble import GradientBoostingRegressor, GradientBoostingClassifier\n",
    "from sklearn.gaussian_process.kernels import RBF\n",
    "# For neural network:\n",
    "from sklearn.neural_network import MLPClassifier\n",
    "# For decision tree:\n",
    "from sklearn import tree\n",
    "# For plotting the decision tree structure:\n",
    "# import graphviz\n",
    "import pickle\n",
    "# For ensemble methods: random forest ad AdaBoost\n",
    "from sklearn.ensemble import RandomForestClassifier, AdaBoostClassifier\n",
    "# For Naive Bayes method:\n",
    "from sklearn.naive_bayes import GaussianNB\n",
    "# For logistic regression:\n",
    "from sklearn.linear_model import LogisticRegression\n",
    "# For data standardization (transform the data so that they have a near-normally distribution with zero mean and unit variance)\n",
    "from sklearn import preprocessing\n",
    "\n",
    "from sklearn import svm, datasets\n",
    "from sklearn.metrics import roc_curve, auc\n",
    "from sklearn.model_selection import train_test_split\n",
    "from sklearn.preprocessing import label_binarize\n",
    "from sklearn.multiclass import OneVsRestClassifier\n",
    "from scipy import interp\n",
    "from sklearn.metrics import roc_auc_score, accuracy_score, confusion_matrix\n",
    "\n",
    "from pprint import pprint\n",
    "from scipy.interpolate import griddata\n",
    "from pylab import * # For adjusting frame width only\n",
    "from sklearn.preprocessing import OneHotEncoder\n",
    "import sklearn.gaussian_process as gp \n",
    "import sklearn.model_selection as ms\n",
    "from sklearn.svm import SVR, SVC\n",
    "from sklearn.ensemble import RandomForestClassifier\n",
    "from sklearn.ensemble import GradientBoostingClassifier\n",
    "from sklearn.model_selection import cross_validate\n",
    "from sklearn.linear_model import Lasso, LogisticRegression\n",
    "from sklearn.utils import shuffle\n",
    "from sklearn.linear_model import Ridge \n",
    "from sklearn.model_selection import KFold, StratifiedKFold\n",
    "from sklearn.preprocessing import scale\n",
    "from sklearn.neural_network import MLPRegressor, MLPClassifier\n",
    "from sklearn import svm\n",
    "from sklearn import metrics\n",
    "import numpy as np\n",
    "import matplotlib.pyplot as plt\n",
    "from itertools import cycle\n",
    "from sklearn.utils import resample, class_weight\n",
    "from sklearn.preprocessing import LabelEncoder\n",
    "\n",
    "from sklearn.datasets import load_digits\n",
    "# Use grid search with cross validation to select ML model hyper-parameters:\n",
    "from sklearn.model_selection import train_test_split  # random split the data into \"training data\" and \"testing data\"\n",
    "from sklearn.model_selection import GridSearchCV  # Exhaustive grid search with cross validation (CV)\n",
    "from sklearn import metrics\n",
    "from sklearn.metrics import classification_report"
   ]
  },
  {
   "cell_type": "code",
   "execution_count": 3,
   "id": "09e00772-bba4-4cbb-b545-187b13f750dc",
   "metadata": {},
   "outputs": [],
   "source": [
    "# For plotting\n",
    "import plotly.io as pio\n",
    "import plotly.graph_objects as go\n",
    "\n",
    "import numpy as np\n",
    "import matplotlib.pyplot as plt\n",
    "\n",
    "# For ML model saving\n",
    "import pickle\n",
    "# sns.set_theme(style=\"whitegrid\")\n",
    "sns.set_theme(style=\"white\", palette=None)"
   ]
  },
  {
   "cell_type": "code",
   "execution_count": 4,
   "id": "0abca71f-7af1-4de5-b3b6-440c50f21a05",
   "metadata": {},
   "outputs": [],
   "source": [
    "plt.rcParams[\"axes.edgecolor\"] = \"black\"\n",
    "plt.rcParams[\"axes.linewidth\"] = 2.50\n",
    "\n",
    "# Where to save the figures, and dataset locations\n",
    "PROJECT_ROOT_DIR = \"../\"\n",
    "IMAGE_PATH = os.path.join(PROJECT_ROOT_DIR, \"result_images\")\n",
    "Feature_PATH = os.path.join(PROJECT_ROOT_DIR, \"feature_extraction\")\n",
    "\n",
    "os.makedirs(IMAGE_PATH, exist_ok=True)\n",
    "os.makedirs(Feature_PATH, exist_ok=True)\n",
    "\n",
    "## function for automatically save the diagram/graph into the folder \n",
    "def save_fig(fig_id, tight_layout=True, fig_extension=\"png\", resolution=300):\n",
    "    path = os.path.join(IMAGE_PATH, fig_id + \".\" + fig_extension)\n",
    "    print(\"Saving figure\", fig_id)\n",
    "    if tight_layout:\n",
    "        plt.tight_layout()\n",
    "    plt.savefig(path, format=fig_extension, dpi=resolution)\n",
    "\n",
    "# Ignore useless warnings (see SciPy issue #5998)\n",
    "import warnings\n",
    "warnings.filterwarnings(action=\"ignore\", message=\"^internal gelsd\")"
   ]
  },
  {
   "cell_type": "markdown",
   "id": "d62a4c33-35dd-4895-b02c-8dd176f2bd4f",
   "metadata": {},
   "source": [
    "## Import extracted features"
   ]
  },
  {
   "cell_type": "code",
   "execution_count": 5,
   "id": "fc1133f9-2dd2-4833-b011-659c9e72411f",
   "metadata": {},
   "outputs": [],
   "source": [
    "transformed_dataset = pd.read_csv(os.path.join(Feature_PATH, \"extracted_feature_v1.csv\")).iloc[: , 1:]\n",
    "transformed_dataset.drop([\"Unnamed: 10\"], axis=1, inplace=True)"
   ]
  },
  {
   "cell_type": "code",
   "execution_count": 6,
   "id": "69024692-d24b-42e4-bf78-427e90c43a11",
   "metadata": {},
   "outputs": [
    {
     "data": {
      "text/plain": [
       "Index(['center_of_mass_x', 'center_of_mass_y', 'center_of_mass_z', 'body_area',\n",
       "       'body_volume', 'material_category', 'assembly_volume', 'assembly_mass',\n",
       "       'assembly_density', ' Engineering & Construction', 'Architecture',\n",
       "       'Civil Infrastructure', 'Media & Entertainment', 'Other Industries',\n",
       "       'Product Design & Manufacturing'],\n",
       "      dtype='object')"
      ]
     },
     "execution_count": 6,
     "metadata": {},
     "output_type": "execute_result"
    }
   ],
   "source": [
    "transformed_dataset.columns"
   ]
  },
  {
   "cell_type": "code",
   "execution_count": 7,
   "id": "ef47fe43-a37d-4f2c-97b0-41a1b84dc3c4",
   "metadata": {
    "scrolled": true
   },
   "outputs": [
    {
     "data": {
      "text/html": [
       "<div>\n",
       "<style scoped>\n",
       "    .dataframe tbody tr th:only-of-type {\n",
       "        vertical-align: middle;\n",
       "    }\n",
       "\n",
       "    .dataframe tbody tr th {\n",
       "        vertical-align: top;\n",
       "    }\n",
       "\n",
       "    .dataframe thead th {\n",
       "        text-align: right;\n",
       "    }\n",
       "</style>\n",
       "<table border=\"1\" class=\"dataframe\">\n",
       "  <thead>\n",
       "    <tr style=\"text-align: right;\">\n",
       "      <th></th>\n",
       "      <th>center_of_mass_x</th>\n",
       "      <th>center_of_mass_y</th>\n",
       "      <th>center_of_mass_z</th>\n",
       "      <th>body_area</th>\n",
       "      <th>body_volume</th>\n",
       "      <th>material_category</th>\n",
       "      <th>assembly_volume</th>\n",
       "      <th>assembly_mass</th>\n",
       "      <th>assembly_density</th>\n",
       "      <th>Engineering &amp; Construction</th>\n",
       "      <th>Architecture</th>\n",
       "      <th>Civil Infrastructure</th>\n",
       "      <th>Media &amp; Entertainment</th>\n",
       "      <th>Other Industries</th>\n",
       "      <th>Product Design &amp; Manufacturing</th>\n",
       "    </tr>\n",
       "  </thead>\n",
       "  <tbody>\n",
       "    <tr>\n",
       "      <th>0</th>\n",
       "      <td>9.170593e-16</td>\n",
       "      <td>2.846286</td>\n",
       "      <td>5.060009e-13</td>\n",
       "      <td>1.892846</td>\n",
       "      <td>0.064315</td>\n",
       "      <td>Plastic</td>\n",
       "      <td>0.214475</td>\n",
       "      <td>0.001684</td>\n",
       "      <td>0.00785</td>\n",
       "      <td>0</td>\n",
       "      <td>0</td>\n",
       "      <td>0</td>\n",
       "      <td>0</td>\n",
       "      <td>0</td>\n",
       "      <td>1</td>\n",
       "    </tr>\n",
       "    <tr>\n",
       "      <th>1</th>\n",
       "      <td>-2.057905e-09</td>\n",
       "      <td>2.423258</td>\n",
       "      <td>-2.936297e-02</td>\n",
       "      <td>0.659531</td>\n",
       "      <td>0.007196</td>\n",
       "      <td>Metal_Ferrous_Steel</td>\n",
       "      <td>0.214475</td>\n",
       "      <td>0.001684</td>\n",
       "      <td>0.00785</td>\n",
       "      <td>0</td>\n",
       "      <td>0</td>\n",
       "      <td>0</td>\n",
       "      <td>0</td>\n",
       "      <td>0</td>\n",
       "      <td>1</td>\n",
       "    </tr>\n",
       "    <tr>\n",
       "      <th>2</th>\n",
       "      <td>-2.066062e-09</td>\n",
       "      <td>2.421404</td>\n",
       "      <td>6.705135e-01</td>\n",
       "      <td>0.657318</td>\n",
       "      <td>0.007167</td>\n",
       "      <td>Metal_Non-Ferrous</td>\n",
       "      <td>0.214475</td>\n",
       "      <td>0.001684</td>\n",
       "      <td>0.00785</td>\n",
       "      <td>0</td>\n",
       "      <td>0</td>\n",
       "      <td>0</td>\n",
       "      <td>0</td>\n",
       "      <td>0</td>\n",
       "      <td>1</td>\n",
       "    </tr>\n",
       "    <tr>\n",
       "      <th>3</th>\n",
       "      <td>9.170593e-16</td>\n",
       "      <td>2.846286</td>\n",
       "      <td>7.000000e-01</td>\n",
       "      <td>1.892846</td>\n",
       "      <td>0.064315</td>\n",
       "      <td>Other</td>\n",
       "      <td>0.214475</td>\n",
       "      <td>0.001684</td>\n",
       "      <td>0.00785</td>\n",
       "      <td>0</td>\n",
       "      <td>0</td>\n",
       "      <td>0</td>\n",
       "      <td>0</td>\n",
       "      <td>0</td>\n",
       "      <td>1</td>\n",
       "    </tr>\n",
       "    <tr>\n",
       "      <th>4</th>\n",
       "      <td>9.170593e-16</td>\n",
       "      <td>2.846286</td>\n",
       "      <td>-7.000000e-01</td>\n",
       "      <td>1.892846</td>\n",
       "      <td>0.064315</td>\n",
       "      <td>Plastic</td>\n",
       "      <td>0.214475</td>\n",
       "      <td>0.001684</td>\n",
       "      <td>0.00785</td>\n",
       "      <td>0</td>\n",
       "      <td>0</td>\n",
       "      <td>0</td>\n",
       "      <td>0</td>\n",
       "      <td>0</td>\n",
       "      <td>1</td>\n",
       "    </tr>\n",
       "    <tr>\n",
       "      <th>...</th>\n",
       "      <td>...</td>\n",
       "      <td>...</td>\n",
       "      <td>...</td>\n",
       "      <td>...</td>\n",
       "      <td>...</td>\n",
       "      <td>...</td>\n",
       "      <td>...</td>\n",
       "      <td>...</td>\n",
       "      <td>...</td>\n",
       "      <td>...</td>\n",
       "      <td>...</td>\n",
       "      <td>...</td>\n",
       "      <td>...</td>\n",
       "      <td>...</td>\n",
       "      <td>...</td>\n",
       "    </tr>\n",
       "    <tr>\n",
       "      <th>131238</th>\n",
       "      <td>6.132067e-01</td>\n",
       "      <td>0.000000</td>\n",
       "      <td>-2.670490e-11</td>\n",
       "      <td>1.729151</td>\n",
       "      <td>0.116680</td>\n",
       "      <td>Metal_Ferrous_Steel</td>\n",
       "      <td>299.830188</td>\n",
       "      <td>2.353667</td>\n",
       "      <td>0.00785</td>\n",
       "      <td>0</td>\n",
       "      <td>0</td>\n",
       "      <td>0</td>\n",
       "      <td>0</td>\n",
       "      <td>0</td>\n",
       "      <td>1</td>\n",
       "    </tr>\n",
       "    <tr>\n",
       "      <th>131239</th>\n",
       "      <td>0.000000e+00</td>\n",
       "      <td>0.181651</td>\n",
       "      <td>1.007575e-11</td>\n",
       "      <td>0.129364</td>\n",
       "      <td>0.002853</td>\n",
       "      <td>Metal_Ferrous_Steel</td>\n",
       "      <td>299.830188</td>\n",
       "      <td>2.353667</td>\n",
       "      <td>0.00785</td>\n",
       "      <td>0</td>\n",
       "      <td>0</td>\n",
       "      <td>0</td>\n",
       "      <td>0</td>\n",
       "      <td>0</td>\n",
       "      <td>1</td>\n",
       "    </tr>\n",
       "    <tr>\n",
       "      <th>131240</th>\n",
       "      <td>-6.182051e-17</td>\n",
       "      <td>-0.011000</td>\n",
       "      <td>8.108617e-12</td>\n",
       "      <td>0.016467</td>\n",
       "      <td>0.000024</td>\n",
       "      <td>Metal_Ferrous_Steel</td>\n",
       "      <td>299.830188</td>\n",
       "      <td>2.353667</td>\n",
       "      <td>0.00785</td>\n",
       "      <td>0</td>\n",
       "      <td>0</td>\n",
       "      <td>0</td>\n",
       "      <td>0</td>\n",
       "      <td>0</td>\n",
       "      <td>1</td>\n",
       "    </tr>\n",
       "    <tr>\n",
       "      <th>131241</th>\n",
       "      <td>0.000000e+00</td>\n",
       "      <td>0.150000</td>\n",
       "      <td>1.045680e-11</td>\n",
       "      <td>0.109956</td>\n",
       "      <td>0.002356</td>\n",
       "      <td>Metal_Ferrous_Steel</td>\n",
       "      <td>299.830188</td>\n",
       "      <td>2.353667</td>\n",
       "      <td>0.00785</td>\n",
       "      <td>0</td>\n",
       "      <td>0</td>\n",
       "      <td>0</td>\n",
       "      <td>0</td>\n",
       "      <td>0</td>\n",
       "      <td>1</td>\n",
       "    </tr>\n",
       "    <tr>\n",
       "      <th>131242</th>\n",
       "      <td>3.451123e-17</td>\n",
       "      <td>0.325000</td>\n",
       "      <td>-1.045678e-11</td>\n",
       "      <td>0.094248</td>\n",
       "      <td>0.001571</td>\n",
       "      <td>Metal_Ferrous_Steel</td>\n",
       "      <td>299.830188</td>\n",
       "      <td>2.353667</td>\n",
       "      <td>0.00785</td>\n",
       "      <td>0</td>\n",
       "      <td>0</td>\n",
       "      <td>0</td>\n",
       "      <td>0</td>\n",
       "      <td>0</td>\n",
       "      <td>1</td>\n",
       "    </tr>\n",
       "  </tbody>\n",
       "</table>\n",
       "<p>131243 rows × 15 columns</p>\n",
       "</div>"
      ],
      "text/plain": [
       "        center_of_mass_x  center_of_mass_y  center_of_mass_z  body_area  \\\n",
       "0           9.170593e-16          2.846286      5.060009e-13   1.892846   \n",
       "1          -2.057905e-09          2.423258     -2.936297e-02   0.659531   \n",
       "2          -2.066062e-09          2.421404      6.705135e-01   0.657318   \n",
       "3           9.170593e-16          2.846286      7.000000e-01   1.892846   \n",
       "4           9.170593e-16          2.846286     -7.000000e-01   1.892846   \n",
       "...                  ...               ...               ...        ...   \n",
       "131238      6.132067e-01          0.000000     -2.670490e-11   1.729151   \n",
       "131239      0.000000e+00          0.181651      1.007575e-11   0.129364   \n",
       "131240     -6.182051e-17         -0.011000      8.108617e-12   0.016467   \n",
       "131241      0.000000e+00          0.150000      1.045680e-11   0.109956   \n",
       "131242      3.451123e-17          0.325000     -1.045678e-11   0.094248   \n",
       "\n",
       "        body_volume    material_category  assembly_volume  assembly_mass  \\\n",
       "0          0.064315              Plastic         0.214475       0.001684   \n",
       "1          0.007196  Metal_Ferrous_Steel         0.214475       0.001684   \n",
       "2          0.007167    Metal_Non-Ferrous         0.214475       0.001684   \n",
       "3          0.064315                Other         0.214475       0.001684   \n",
       "4          0.064315              Plastic         0.214475       0.001684   \n",
       "...             ...                  ...              ...            ...   \n",
       "131238     0.116680  Metal_Ferrous_Steel       299.830188       2.353667   \n",
       "131239     0.002853  Metal_Ferrous_Steel       299.830188       2.353667   \n",
       "131240     0.000024  Metal_Ferrous_Steel       299.830188       2.353667   \n",
       "131241     0.002356  Metal_Ferrous_Steel       299.830188       2.353667   \n",
       "131242     0.001571  Metal_Ferrous_Steel       299.830188       2.353667   \n",
       "\n",
       "        assembly_density   Engineering & Construction  Architecture  \\\n",
       "0                0.00785                            0             0   \n",
       "1                0.00785                            0             0   \n",
       "2                0.00785                            0             0   \n",
       "3                0.00785                            0             0   \n",
       "4                0.00785                            0             0   \n",
       "...                  ...                          ...           ...   \n",
       "131238           0.00785                            0             0   \n",
       "131239           0.00785                            0             0   \n",
       "131240           0.00785                            0             0   \n",
       "131241           0.00785                            0             0   \n",
       "131242           0.00785                            0             0   \n",
       "\n",
       "        Civil Infrastructure  Media & Entertainment  Other Industries  \\\n",
       "0                          0                      0                 0   \n",
       "1                          0                      0                 0   \n",
       "2                          0                      0                 0   \n",
       "3                          0                      0                 0   \n",
       "4                          0                      0                 0   \n",
       "...                      ...                    ...               ...   \n",
       "131238                     0                      0                 0   \n",
       "131239                     0                      0                 0   \n",
       "131240                     0                      0                 0   \n",
       "131241                     0                      0                 0   \n",
       "131242                     0                      0                 0   \n",
       "\n",
       "        Product Design & Manufacturing  \n",
       "0                                    1  \n",
       "1                                    1  \n",
       "2                                    1  \n",
       "3                                    1  \n",
       "4                                    1  \n",
       "...                                ...  \n",
       "131238                               1  \n",
       "131239                               1  \n",
       "131240                               1  \n",
       "131241                               1  \n",
       "131242                               1  \n",
       "\n",
       "[131243 rows x 15 columns]"
      ]
     },
     "execution_count": 7,
     "metadata": {},
     "output_type": "execute_result"
    }
   ],
   "source": [
    "transformed_dataset"
   ]
  },
  {
   "cell_type": "code",
   "execution_count": 8,
   "id": "a62e8e29-7d6a-4209-9a99-921312b8bb52",
   "metadata": {},
   "outputs": [],
   "source": [
    "transformed_dataset_cleaned = transformed_dataset.dropna()"
   ]
  },
  {
   "cell_type": "markdown",
   "id": "54ab1bb7-6af0-43b6-a9b4-1e61dfd9c5ee",
   "metadata": {},
   "source": [
    "## Constructing labels and input features for training the models"
   ]
  },
  {
   "cell_type": "code",
   "execution_count": 9,
   "id": "056f6947-40da-43bb-854b-96a5c906c7ad",
   "metadata": {},
   "outputs": [
    {
     "name": "stderr",
     "output_type": "stream",
     "text": [
      "C:\\Users\\Asus\\AppData\\Local\\Temp\\ipykernel_32548\\1570849761.py:5: SettingWithCopyWarning: \n",
      "A value is trying to be set on a copy of a slice from a DataFrame.\n",
      "Try using .loc[row_indexer,col_indexer] = value instead\n",
      "\n",
      "See the caveats in the documentation: https://pandas.pydata.org/pandas-docs/stable/user_guide/indexing.html#returning-a-view-versus-a-copy\n",
      "  transformed_dataset_cleaned['numeric_labels'] = le.fit_transform(transformed_dataset_cleaned['material_category'])\n"
     ]
    },
    {
     "data": {
      "text/html": [
       "<div>\n",
       "<style scoped>\n",
       "    .dataframe tbody tr th:only-of-type {\n",
       "        vertical-align: middle;\n",
       "    }\n",
       "\n",
       "    .dataframe tbody tr th {\n",
       "        vertical-align: top;\n",
       "    }\n",
       "\n",
       "    .dataframe thead th {\n",
       "        text-align: right;\n",
       "    }\n",
       "</style>\n",
       "<table border=\"1\" class=\"dataframe\">\n",
       "  <thead>\n",
       "    <tr style=\"text-align: right;\">\n",
       "      <th></th>\n",
       "      <th>center_of_mass_x</th>\n",
       "      <th>center_of_mass_y</th>\n",
       "      <th>center_of_mass_z</th>\n",
       "      <th>body_area</th>\n",
       "      <th>body_volume</th>\n",
       "      <th>material_category</th>\n",
       "      <th>assembly_volume</th>\n",
       "      <th>assembly_mass</th>\n",
       "      <th>assembly_density</th>\n",
       "      <th>Engineering &amp; Construction</th>\n",
       "      <th>Architecture</th>\n",
       "      <th>Civil Infrastructure</th>\n",
       "      <th>Media &amp; Entertainment</th>\n",
       "      <th>Other Industries</th>\n",
       "      <th>Product Design &amp; Manufacturing</th>\n",
       "      <th>numeric_labels</th>\n",
       "    </tr>\n",
       "  </thead>\n",
       "  <tbody>\n",
       "    <tr>\n",
       "      <th>0</th>\n",
       "      <td>9.170593e-16</td>\n",
       "      <td>2.846286</td>\n",
       "      <td>5.060009e-13</td>\n",
       "      <td>1.892846</td>\n",
       "      <td>0.064315</td>\n",
       "      <td>Plastic</td>\n",
       "      <td>0.214475</td>\n",
       "      <td>0.001684</td>\n",
       "      <td>0.00785</td>\n",
       "      <td>0</td>\n",
       "      <td>0</td>\n",
       "      <td>0</td>\n",
       "      <td>0</td>\n",
       "      <td>0</td>\n",
       "      <td>1</td>\n",
       "      <td>5</td>\n",
       "    </tr>\n",
       "    <tr>\n",
       "      <th>1</th>\n",
       "      <td>-2.057905e-09</td>\n",
       "      <td>2.423258</td>\n",
       "      <td>-2.936297e-02</td>\n",
       "      <td>0.659531</td>\n",
       "      <td>0.007196</td>\n",
       "      <td>Metal_Ferrous_Steel</td>\n",
       "      <td>0.214475</td>\n",
       "      <td>0.001684</td>\n",
       "      <td>0.00785</td>\n",
       "      <td>0</td>\n",
       "      <td>0</td>\n",
       "      <td>0</td>\n",
       "      <td>0</td>\n",
       "      <td>0</td>\n",
       "      <td>1</td>\n",
       "      <td>2</td>\n",
       "    </tr>\n",
       "    <tr>\n",
       "      <th>2</th>\n",
       "      <td>-2.066062e-09</td>\n",
       "      <td>2.421404</td>\n",
       "      <td>6.705135e-01</td>\n",
       "      <td>0.657318</td>\n",
       "      <td>0.007167</td>\n",
       "      <td>Metal_Non-Ferrous</td>\n",
       "      <td>0.214475</td>\n",
       "      <td>0.001684</td>\n",
       "      <td>0.00785</td>\n",
       "      <td>0</td>\n",
       "      <td>0</td>\n",
       "      <td>0</td>\n",
       "      <td>0</td>\n",
       "      <td>0</td>\n",
       "      <td>1</td>\n",
       "      <td>3</td>\n",
       "    </tr>\n",
       "    <tr>\n",
       "      <th>3</th>\n",
       "      <td>9.170593e-16</td>\n",
       "      <td>2.846286</td>\n",
       "      <td>7.000000e-01</td>\n",
       "      <td>1.892846</td>\n",
       "      <td>0.064315</td>\n",
       "      <td>Other</td>\n",
       "      <td>0.214475</td>\n",
       "      <td>0.001684</td>\n",
       "      <td>0.00785</td>\n",
       "      <td>0</td>\n",
       "      <td>0</td>\n",
       "      <td>0</td>\n",
       "      <td>0</td>\n",
       "      <td>0</td>\n",
       "      <td>1</td>\n",
       "      <td>4</td>\n",
       "    </tr>\n",
       "    <tr>\n",
       "      <th>4</th>\n",
       "      <td>9.170593e-16</td>\n",
       "      <td>2.846286</td>\n",
       "      <td>-7.000000e-01</td>\n",
       "      <td>1.892846</td>\n",
       "      <td>0.064315</td>\n",
       "      <td>Plastic</td>\n",
       "      <td>0.214475</td>\n",
       "      <td>0.001684</td>\n",
       "      <td>0.00785</td>\n",
       "      <td>0</td>\n",
       "      <td>0</td>\n",
       "      <td>0</td>\n",
       "      <td>0</td>\n",
       "      <td>0</td>\n",
       "      <td>1</td>\n",
       "      <td>5</td>\n",
       "    </tr>\n",
       "  </tbody>\n",
       "</table>\n",
       "</div>"
      ],
      "text/plain": [
       "   center_of_mass_x  center_of_mass_y  center_of_mass_z  body_area  \\\n",
       "0      9.170593e-16          2.846286      5.060009e-13   1.892846   \n",
       "1     -2.057905e-09          2.423258     -2.936297e-02   0.659531   \n",
       "2     -2.066062e-09          2.421404      6.705135e-01   0.657318   \n",
       "3      9.170593e-16          2.846286      7.000000e-01   1.892846   \n",
       "4      9.170593e-16          2.846286     -7.000000e-01   1.892846   \n",
       "\n",
       "   body_volume    material_category  assembly_volume  assembly_mass  \\\n",
       "0     0.064315              Plastic         0.214475       0.001684   \n",
       "1     0.007196  Metal_Ferrous_Steel         0.214475       0.001684   \n",
       "2     0.007167    Metal_Non-Ferrous         0.214475       0.001684   \n",
       "3     0.064315                Other         0.214475       0.001684   \n",
       "4     0.064315              Plastic         0.214475       0.001684   \n",
       "\n",
       "   assembly_density   Engineering & Construction  Architecture  \\\n",
       "0           0.00785                            0             0   \n",
       "1           0.00785                            0             0   \n",
       "2           0.00785                            0             0   \n",
       "3           0.00785                            0             0   \n",
       "4           0.00785                            0             0   \n",
       "\n",
       "   Civil Infrastructure  Media & Entertainment  Other Industries  \\\n",
       "0                     0                      0                 0   \n",
       "1                     0                      0                 0   \n",
       "2                     0                      0                 0   \n",
       "3                     0                      0                 0   \n",
       "4                     0                      0                 0   \n",
       "\n",
       "   Product Design & Manufacturing  numeric_labels  \n",
       "0                               1               5  \n",
       "1                               1               2  \n",
       "2                               1               3  \n",
       "3                               1               4  \n",
       "4                               1               5  "
      ]
     },
     "execution_count": 9,
     "metadata": {},
     "output_type": "execute_result"
    }
   ],
   "source": [
    "# Initialize LabelEncoder\n",
    "le = LabelEncoder()\n",
    "\n",
    "# Assuming the column with textual labels is named 'material_category'\n",
    "transformed_dataset_cleaned['numeric_labels'] = le.fit_transform(transformed_dataset_cleaned['material_category'])\n",
    "\n",
    "# Display the updated dataframe with new numeric labels\n",
    "transformed_dataset_cleaned.head()"
   ]
  },
  {
   "cell_type": "code",
   "execution_count": 10,
   "id": "3988f6fc-83a9-4236-9ffb-a0340c699ab3",
   "metadata": {},
   "outputs": [
    {
     "data": {
      "text/plain": [
       "{0: 'Metal_Aluminum',\n",
       " 1: 'Metal_Ferrous',\n",
       " 2: 'Metal_Ferrous_Steel',\n",
       " 3: 'Metal_Non-Ferrous',\n",
       " 4: 'Other',\n",
       " 5: 'Plastic',\n",
       " 6: 'Wood'}"
      ]
     },
     "execution_count": 10,
     "metadata": {},
     "output_type": "execute_result"
    }
   ],
   "source": [
    "label_mapping = dict(enumerate(le.classes_))\n",
    "label_mapping"
   ]
  },
  {
   "cell_type": "code",
   "execution_count": 22,
   "id": "34de3df4-3bc5-47d5-ac13-e96d29f55dc8",
   "metadata": {},
   "outputs": [],
   "source": [
    "Label = transformed_dataset_cleaned['material_category'].to_list()\n",
    "label_numeric = transformed_dataset_cleaned['numeric_labels'].to_list()\n",
    "y = transformed_dataset_cleaned['numeric_labels'].to_list()\n",
    "\n",
    "X = transformed_dataset_cleaned[['center_of_mass_x', 'center_of_mass_y', 'center_of_mass_z', 'body_area',\n",
    "       'body_volume', 'assembly_volume', 'assembly_mass',\n",
    "       'assembly_density']].to_numpy()"
   ]
  },
  {
   "cell_type": "markdown",
   "id": "86c7a826-e34d-4b56-b60c-a4579593222b",
   "metadata": {},
   "source": [
    "## Split the *train* set into *train* and *validation*"
   ]
  },
  {
   "cell_type": "code",
   "execution_count": 23,
   "id": "6e4a6873-ab4b-4df4-b2bc-399855ef7f1f",
   "metadata": {},
   "outputs": [
    {
     "name": "stdout",
     "output_type": "stream",
     "text": [
      "Training set size: 104320\n",
      "Validation set size: 26081\n"
     ]
    }
   ],
   "source": [
    "X_train, X_val, y_train, y_val = train_test_split(X, y, test_size=0.2, random_state=0, \n",
    "                                                                    stratify = transformed_dataset_cleaned.material_category, shuffle=True)\n",
    "\n",
    "print(f\"Training set size: {len(X_train)}\")\n",
    "print(f\"Validation set size: {len(X_val)}\")\n",
    "\n",
    "le = LabelEncoder()\n",
    "\n",
    "le.fit_transform(y)\n",
    "Y_all_train = le.transform(y_train)\n",
    "Y_all_test = le.transform(y_val)"
   ]
  },
  {
   "cell_type": "code",
   "execution_count": 24,
   "id": "8b42b6dc-433b-432d-b1e5-76e95c0fe88a",
   "metadata": {},
   "outputs": [
    {
     "data": {
      "text/plain": [
       "array([[-2.82239133e+01, -3.96118351e+00,  8.39338110e+01, ...,\n",
       "         1.13457831e+04,  8.90643977e+01,  7.85000000e-03],\n",
       "       [ 1.59279787e+02,  1.91993969e+02,  1.35000000e+01, ...,\n",
       "         1.56128914e+05,  7.92319115e+02,  5.07477503e-03],\n",
       "       [ 4.64107408e-05, -1.58462301e-04, -1.11819392e+00, ...,\n",
       "         1.12628068e+03,  8.84130337e+00,  7.85000000e-03],\n",
       "       ...,\n",
       "       [-1.43047717e+00,  6.90131518e+00,  9.52740326e+00, ...,\n",
       "         3.80989893e+03,  2.99077066e+01,  7.85000000e-03],\n",
       "       [-3.32914711e-12,  7.48450752e+00,  0.00000000e+00, ...,\n",
       "         3.50270224e+01,  2.74962126e-01,  7.85000000e-03],\n",
       "       [ 6.35000000e-01,  1.71450000e+01,  1.52400000e+01, ...,\n",
       "         2.76122028e+04,  3.28598979e+01,  1.19004985e-03]])"
      ]
     },
     "execution_count": 24,
     "metadata": {},
     "output_type": "execute_result"
    }
   ],
   "source": [
    "X_train"
   ]
  },
  {
   "cell_type": "code",
   "execution_count": 25,
   "id": "5206fadd-7ee6-4573-b3e0-d8121a28a7c8",
   "metadata": {},
   "outputs": [
    {
     "data": {
      "text/plain": [
       "array([0, 1, 2, 3, 4, 5, 6])"
      ]
     },
     "execution_count": 25,
     "metadata": {},
     "output_type": "execute_result"
    }
   ],
   "source": [
    "le.classes_"
   ]
  },
  {
   "cell_type": "code",
   "execution_count": 26,
   "id": "d34391f0-c0f3-4873-b52e-c9b5a80507f3",
   "metadata": {},
   "outputs": [
    {
     "data": {
      "text/plain": [
       "array([0, 1, 2, 3, 4, 5, 6])"
      ]
     },
     "execution_count": 26,
     "metadata": {},
     "output_type": "execute_result"
    }
   ],
   "source": [
    "np.unique(y_train)"
   ]
  },
  {
   "cell_type": "markdown",
   "id": "e18b8383-41e9-419b-96b3-fd4f00f9a250",
   "metadata": {},
   "source": [
    "### Compute class weight\n",
    "\n",
    "This is for treating the imbalanced class, which is calculating the class weight and use it for weighting the loss function (during training only).\n",
    "\n",
    "`'balanced'` => n_samples / (n_classes * np.bincount(y))"
   ]
  },
  {
   "cell_type": "code",
   "execution_count": 27,
   "id": "98c79569-3961-4095-b6c9-c008324683c4",
   "metadata": {},
   "outputs": [
    {
     "name": "stdout",
     "output_type": "stream",
     "text": [
      "class weights: [1.76281726 2.59180124 0.47195291 1.15257983 0.66509828 0.93493458\n",
      " 2.05216981]\n",
      "class        : [0 1 2 3 4 5 6]\n"
     ]
    }
   ],
   "source": [
    "class_weights = class_weight.compute_class_weight('balanced',\n",
    "                                                 classes = np.unique(y_train),\n",
    "                                                 y = y_train)\n",
    "\n",
    "print(f\"class weights: {class_weights}\")\n",
    "print(f\"class        : {np.unique(le.classes_)}\")"
   ]
  },
  {
   "cell_type": "markdown",
   "id": "991919ee-6dd5-4a31-b6c6-f611687bc06a",
   "metadata": {},
   "source": [
    "### Data standarization"
   ]
  },
  {
   "cell_type": "code",
   "execution_count": 28,
   "id": "3b7b80c6-e48e-4c61-9bce-2f9749f4102b",
   "metadata": {},
   "outputs": [],
   "source": [
    "scaler = preprocessing.StandardScaler() \n",
    "\n",
    "X_train_transformed = scaler.fit_transform(X_train)\n",
    "X_val_transformed = scaler.fit_transform(X_val)"
   ]
  },
  {
   "cell_type": "markdown",
   "id": "b54fa671-7a7c-48aa-b045-620b6af395ab",
   "metadata": {},
   "source": [
    "# ML model training"
   ]
  },
  {
   "cell_type": "code",
   "execution_count": 29,
   "id": "d5fe7704-7dad-4139-8771-537c93d946de",
   "metadata": {},
   "outputs": [],
   "source": [
    "all_accuracy_mean_list = []\n",
    "all_accuracy_std_list = []\n",
    "\n",
    "all_auc_mean = []\n",
    "all_auc_std = []"
   ]
  },
  {
   "cell_type": "markdown",
   "id": "5ebad04f-cafa-457a-8d4f-287beaddc201",
   "metadata": {},
   "source": [
    "Predicts the __material category__ based on selected features, iterating over the algorithms:\n",
    "\n",
    "- K nearest neighbor classification: 'KNN'\n",
    "\n",
    "- Decision Tree classification: 'DT'\n",
    "\n",
    "- Adaptive Boosting classification: 'AdaBoost'\n",
    "\n",
    "- Random Forests classification 'RF'\n",
    "\n",
    "- Gaussian Process classification 'GPR'\n",
    "\n",
    "- Support Vector classification 'SVR'\n",
    "\n",
    "- Gradient Boosting classification 'GB'\n",
    "\n",
    "- Nerual Network classification 'NN'"
   ]
  },
  {
   "cell_type": "code",
   "execution_count": 32,
   "id": "fe415c61-c458-40e1-90e8-0107ea33dc2e",
   "metadata": {},
   "outputs": [],
   "source": [
    "###########-----------------------KNN---------------------######################\n",
    "tuned_parameters = {'n_neighbors': [4, 5, 6, 8, 10,20,50],\n",
    "                    'weights': ['uniform', 'distance']}    # a dict (dictionary)\n",
    "score = \"accuracy\" #\"neg_mean_squared_error\"\n",
    "metamodel_KNN = GridSearchCV(neighbors.KNeighborsClassifier(), tuned_parameters, n_jobs=2, verbose=4, scoring=score, cv=5)\n",
    "\n",
    "###########-----------------------DT---------------------######################\n",
    "tuned_parameters = {'min_samples_split': [3,5,6],\n",
    "                    'max_depth': [4,5,6,10,20, 30]}    # a dict (dictionary)\n",
    "\n",
    "metamodel_DT = GridSearchCV(tree.DecisionTreeClassifier(), tuned_parameters,  n_jobs=2, verbose=3, scoring=score, cv=5)\n",
    "\n",
    "###########-----------------------LR---------------------######################\n",
    "tuned_parameters = {'solver': ['lbfgs'],\n",
    "                    'penalty' : ['l2'],\n",
    "                    'C' : [1.0, 0.1], \n",
    "                    'max_iter': [500, 1000]}    # a dict (dictionary)\n",
    "metamodel_LR = GridSearchCV(LogisticRegression(), tuned_parameters,  n_jobs=2, verbose=3, scoring=score, cv=5)\n",
    "\n",
    "###########-----------------------NB---------------------######################\n",
    "tuned_parameters = {'var_smoothing': [1e-11, 1e-10, 1e-9]}    # a dict (dictionary)\n",
    "metamodel_NB = GridSearchCV(GaussianNB(), tuned_parameters,  n_jobs=2, verbose=3, scoring=score, cv=5)\n",
    "\n",
    "###########-----------------------Adaboost---------------------######################\n",
    "tuned_parameters = {'n_estimators': [2, 5, 10, 100, 300, 400],\n",
    "                    'algorithm': ['SAMME', 'SAMME.R']}    # a dict (dictionary)\n",
    "\n",
    "metamodel_AdaBoost = GridSearchCV(AdaBoostClassifier(), tuned_parameters,  n_jobs=2, verbose=3, scoring=score, cv=5)\n",
    "\n",
    "###########-----------------------RF---------------------######################\n",
    "tuned_parameters = {'n_estimators': [2, 5, 10, 100, 300],\n",
    "                    'min_samples_split': [2,3,4,5,6],\n",
    "                    'max_depth': [2, 5, 10,50, 100]}    # a dict (dictionary)\n",
    "score = \"r2\" #\"neg_mean_squared_error\"\n",
    "metamodel_RF = GridSearchCV(RandomForestClassifier(), tuned_parameters,  n_jobs=2, verbose=3, scoring=score, cv=5)\n",
    "    \n",
    "    \n",
    "###########-----------------------SVC---------------------######################\n",
    "tuned_parameters = {'gamma': [1e-2,1e-3, 1e-4],\n",
    "                    'C': [1, 10, 100, 1000]}    # a dict (dictionary)\n",
    "\n",
    "metamodel_SVC = GridSearchCV(svm.SVC(), tuned_parameters, n_jobs=2, verbose=3, scoring=score, cv=5)\n",
    "\n",
    "    \n",
    "###########-----------------------GB---------------------######################\n",
    "tuned_parameters = {'n_estimators': [1, 10, 100, 200, 500]}    # a dict (dictionary)\n",
    "\n",
    "metamodel_GB = GridSearchCV(GradientBoostingClassifier(), tuned_parameters, n_jobs=-1,verbose=3, scoring=score, cv=5)\n",
    "\n",
    "    \n",
    "###########-----------------------GP---------------------######################\n",
    "# kernal optimization\n",
    "tuned_parameters = {\n",
    "                    # 'kernel': [1*gp.kernels.RBF(), 1*gp.kernels.DotProduct(), \n",
    "                    #            1*gp.kernels.Matern(),  1*gp.kernels.RationalQuadratic(),\n",
    "                    #            1*gp.kernels.WhiteKernel(), \n",
    "                    #            gp.kernels.ConstantKernel(1.0, (1e-1, 1e3))*gp.kernels.RBF(1.0, (1e-3, 1e3))],\n",
    "                    'kernel': [gp.kernels.ConstantKernel(1.0, (1e-1, 1e3))*gp.kernels.RBF(1.0, (1e-3, 1e3))],\n",
    "                    # 'n_restarts_optimizer': [10],\n",
    "                    # 'alpha': [1e-4, 1e-3],\n",
    "                    # 'normalize_y': [True],\n",
    "                   }    \n",
    "\n",
    "metamodel_GP = GridSearchCV(gp.GaussianProcessClassifier(), tuned_parameters, n_jobs=-1,verbose=3, scoring=score, cv=5)\n",
    "\n",
    "\n",
    "###########-----------------------NN---------------------######################\n",
    "tuned_parameters = {'hidden_layer_sizes': [(16,64,256), (32, 64, 128, 64), \n",
    "                                            (16, 32, 256, 32 ), \n",
    "                                            (16, 32, 256, 128)],\n",
    "                    'activation': ['relu'],\n",
    "                    'solver': ['adam'],\n",
    "                    'alpha': [0.1, 0.01], \n",
    "                    'learning_rate': ['adaptive'],\n",
    "                    'max_iter':[20000]}\n",
    "\n",
    "metamodel_NN = GridSearchCV(MLPClassifier(), tuned_parameters, n_jobs=2, verbose=3, scoring=score, cv=5)"
   ]
  },
  {
   "cell_type": "code",
   "execution_count": null,
   "id": "1207153c-6373-41c7-bf93-1eed959d2e8b",
   "metadata": {},
   "outputs": [
    {
     "name": "stdout",
     "output_type": "stream",
     "text": [
      "Fitting 5 folds for each of 14 candidates, totalling 70 fits\n"
     ]
    }
   ],
   "source": [
    "metamodel_KNN.fit(X_train, y_train)\n",
    "print (\"KNN finished\")\n",
    "metamodel_DT.fit(X_train, y_train)\n",
    "print (\"DT finished\")\n",
    "# metamodel_AdaBoost.fit(X_all_train_transformed, Y_all_train)\n",
    "# print (\"AdaBoost finished\")\n",
    "# metamodel_NB.fit(X_all_train_transformed, Y_all_train)\n",
    "# print (\"NB finished\")\n",
    "metamodel_LR.fit(X_train, y_train)\n",
    "print (\"LR finished\")"
   ]
  },
  {
   "cell_type": "code",
   "execution_count": null,
   "id": "fa1f3291-d727-4bb0-99bd-69e937c5469b",
   "metadata": {},
   "outputs": [],
   "source": [
    "metamodel_RF.fit(X_train, y_train)\n",
    "print (\"RF finished\")\n",
    "metamodel_SVC.fit(X_train, y_train)\n",
    "print (\"SVC finished\")\n",
    "# metamodel_GB.fit(X_train, y_train)\n",
    "# print (\"GB finished\")\n",
    "# metamodel_GP.fit(X_train, y_train)\n",
    "# print (\"GPC finished\")\n",
    "metamodel_NN.fit(X_train, y_train)\n",
    "print (\"NN finished\")"
   ]
  },
  {
   "cell_type": "markdown",
   "id": "e2963c99-307a-480b-a03c-31e078459af5",
   "metadata": {
    "pycharm": {
     "name": "#%% md\n"
    }
   },
   "source": [
    "## Make predictions for all bodies in the validation assemblies"
   ]
  },
  {
   "cell_type": "markdown",
   "id": "51a26d48-8fde-43cb-8aab-3d4b6b37ba6b",
   "metadata": {},
   "source": [
    "## Evaluating the results\n",
    "The confusion matrix and classification report are good ways to evaluate our method"
   ]
  },
  {
   "cell_type": "code",
   "execution_count": 29,
   "id": "79d32e9b-ca1a-4ee5-9073-04bd65607714",
   "metadata": {
    "ExecuteTime": {
     "end_time": "2023-07-07T19:07:35.519885300Z",
     "start_time": "2023-07-07T19:07:35.107882200Z"
    },
    "collapsed": false,
    "jupyter": {
     "outputs_hidden": false
    },
    "pycharm": {
     "name": "#%%\n"
    },
    "scrolled": true
   },
   "outputs": [
    {
     "data": {
      "image/png": "[encoded data removed]",
      "text/plain": [
       "<Figure size 640x480 with 2 Axes>"
      ]
     },
     "metadata": {},
     "output_type": "display_data"
    },
    {
     "name": "stdout",
     "output_type": "stream",
     "text": [
      "                   precision    recall  f1-score   support\n",
      "\n",
      "         aluminum       0.00      0.00      0.00       213\n",
      "    ferrous metal       0.00      0.00      0.00       119\n",
      "non-ferrous metal       0.00      0.00      0.00       343\n",
      "            other       0.16      1.00      0.28       355\n",
      "          plastic       0.00      0.00      0.00       404\n",
      "            steel       0.00      0.00      0.00       686\n",
      "             wood       0.00      0.00      0.00        79\n",
      "\n",
      "         accuracy                           0.16      2199\n",
      "        macro avg       0.02      0.14      0.04      2199\n",
      "     weighted avg       0.03      0.16      0.04      2199\n",
      "\n"
     ]
    },
    {
     "name": "stderr",
     "output_type": "stream",
     "text": [
      "C:\\Users\\Asus\\anaconda3\\envs\\autodesk\\lib\\site-packages\\sklearn\\metrics\\_classification.py:1469: UndefinedMetricWarning: Precision and F-score are ill-defined and being set to 0.0 in labels with no predicted samples. Use `zero_division` parameter to control this behavior.\n",
      "  _warn_prf(average, modifier, msg_start, len(result))\n",
      "C:\\Users\\Asus\\anaconda3\\envs\\autodesk\\lib\\site-packages\\sklearn\\metrics\\_classification.py:1469: UndefinedMetricWarning: Precision and F-score are ill-defined and being set to 0.0 in labels with no predicted samples. Use `zero_division` parameter to control this behavior.\n",
      "  _warn_prf(average, modifier, msg_start, len(result))\n",
      "C:\\Users\\Asus\\anaconda3\\envs\\autodesk\\lib\\site-packages\\sklearn\\metrics\\_classification.py:1469: UndefinedMetricWarning: Precision and F-score are ill-defined and being set to 0.0 in labels with no predicted samples. Use `zero_division` parameter to control this behavior.\n",
      "  _warn_prf(average, modifier, msg_start, len(result))\n"
     ]
    }
   ],
   "source": [
    "classes = ['aluminum', 'ferrous metal', 'non-ferrous metal', 'plastic', 'wood', 'steel', 'other']\n",
    "show_confusion_matrix(materials_processed, predicted_materials_processed, classes)\n",
    "print(classification_report(materials_processed, predicted_materials_processed))"
   ]
  },
  {
   "cell_type": "markdown",
   "id": "1dbff9d3-edfa-4bbd-8a7a-24c614219687",
   "metadata": {
    "jp-MarkdownHeadingCollapsed": true
   },
   "source": [
    "## Conclusion\n",
    "From the results we can see that the model is not doing very well.\n",
    "It achieves an accuracy of 0.26.\n",
    "From the confusion matrix we can see that most of the bodies are classified as `other`.\n",
    "\n",
    "This approach could be further improved by changing the prompt, providing more contextual information to the LLM, and many more ways.\n",
    "We look forward to seeing your solutions!"
   ]
  }
 ],
 "metadata": {
  "kernelspec": {
   "display_name": "Python 3 (ipykernel)",
   "language": "python",
   "name": "python3"
  },
  "language_info": {
   "codemirror_mode": {
    "name": "ipython",
    "version": 3
   },
   "file_extension": ".py",
   "mimetype": "text/x-python",
   "name": "python",
   "nbconvert_exporter": "python",
   "pygments_lexer": "ipython3",
   "version": "3.8.10"
  }
 },
 "nbformat": 4,
 "nbformat_minor": 5
}
