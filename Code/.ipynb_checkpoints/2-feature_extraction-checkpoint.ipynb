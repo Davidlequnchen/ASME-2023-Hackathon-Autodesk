{
 "cells": [
  {
   "cell_type": "markdown",
   "metadata": {},
   "source": [
    "# ASME Autodesk Hackathon 2023\n",
    "\n",
    "### Notebook 2: Feature engineering and dataset investigation\n",
    "\n",
    "- __Data Loading__: Start by loading and reading the provided JSON file to understand the data structure and contents. This includes:\n",
    "    - Read the name of each body in the train assemblies, and also expand to read other information about the bodies, like their volume or corresponding image/STEP files\n",
    "    - Read the ground truth material of each body\n",
    "- __Feature Engineering__: make full use of different features. The JSON file contains nested structures. We need to extract relevant features like volume, body name, area, physical_properties, etc. for each part.\n",
    "- __Data Transformation__: Convert the extracted features into a format suitable for feeding into a machine learning model, i.e., a tabular form where each row represents a part and columns represent the feature.\n",
    "- Create a __train/validation splits__."
   ]
  },
  {
   "cell_type": "markdown",
   "metadata": {},
   "source": [
    "## Setup"
   ]
  },
  {
   "cell_type": "code",
   "execution_count": 1,
   "metadata": {
    "collapsed": false,
    "jupyter": {
     "outputs_hidden": false
    }
   },
   "outputs": [],
   "source": [
    "import os\n",
    "from pathlib import Path\n",
    "import json\n",
    "from tqdm import tqdm\n",
    "import matplotlib.pyplot as plt\n",
    "from sklearn.metrics import confusion_matrix, ConfusionMatrixDisplay, classification_report\n",
    "import backoff\n",
    "import time\n",
    "import pandas as pd\n",
    "import seaborn as sns\n",
    "from collections import Counter\n",
    "from sklearn.model_selection import train_test_split"
   ]
  },
  {
   "cell_type": "code",
   "execution_count": 2,
   "metadata": {},
   "outputs": [],
   "source": [
    "plt.rcParams[\"axes.edgecolor\"] = \"black\"\n",
    "plt.rcParams[\"axes.linewidth\"] = 2.50\n",
    "\n",
    "# Where to save the figures, and dataset locations\n",
    "PROJECT_ROOT_DIR = \"../\"\n",
    "IMAGE_PATH = os.path.join(PROJECT_ROOT_DIR, \"result_images\")\n",
    "Feature_PATH = os.path.join(PROJECT_ROOT_DIR, \"feature_extraction\")\n",
    "\n",
    "os.makedirs(IMAGE_PATH, exist_ok=True)\n",
    "os.makedirs(Feature_PATH, exist_ok=True)\n",
    "\n",
    "## function for automatically save the diagram/graph into the folder \n",
    "def save_fig(fig_id, tight_layout=True, fig_extension=\"png\", resolution=300):\n",
    "    path = os.path.join(IMAGE_PATH, fig_id + \".\" + fig_extension)\n",
    "    print(\"Saving figure\", fig_id)\n",
    "    if tight_layout:\n",
    "        plt.tight_layout()\n",
    "    plt.savefig(path, format=fig_extension, dpi=resolution)\n",
    "\n",
    "# Ignore useless warnings (see SciPy issue #5998)\n",
    "import warnings\n",
    "warnings.filterwarnings(action=\"ignore\", message=\"^internal gelsd\")"
   ]
  },
  {
   "cell_type": "markdown",
   "metadata": {},
   "source": [
    "## Read file and get the target output (material category)"
   ]
  },
  {
   "cell_type": "code",
   "execution_count": 3,
   "metadata": {
    "ExecuteTime": {
     "end_time": "2023-07-07T17:18:44.771506100Z",
     "start_time": "2023-07-07T17:18:44.724506100Z"
    },
    "collapsed": false,
    "jupyter": {
     "outputs_hidden": false
    },
    "pycharm": {
     "name": "#%%\n"
    }
   },
   "outputs": [],
   "source": [
    "def get_all_files(directory, pattern):\n",
    "    return [f for f in Path(directory).glob(pattern)]"
   ]
  },
  {
   "cell_type": "code",
   "execution_count": 4,
   "metadata": {
    "ExecuteTime": {
     "end_time": "2023-07-07T17:18:44.772504500Z",
     "start_time": "2023-07-07T17:18:44.743457900Z"
    },
    "collapsed": false,
    "jupyter": {
     "outputs_hidden": false
    },
    "pycharm": {
     "name": "#%%\n"
    }
   },
   "outputs": [],
   "source": [
    "def id2name(id):\n",
    "    id = id.lower()\n",
    "    # id = id.rstrip()\n",
    "    if id == 'metal_non-ferrous':\n",
    "        return 'non-ferrous metal'\n",
    "    elif id == 'metal_ferrous':\n",
    "        return 'ferrous metal'\n",
    "    elif id == 'metal_ferrous_steel':\n",
    "        return 'steel'\n",
    "    elif id == 'metal_aluminum':\n",
    "        return 'aluminum'\n",
    "    elif id in ['other', 'wood', 'plastic']:\n",
    "        return id\n",
    "    else:\n",
    "        raise f\"Non-default id! {id}\"\n",
    "        # return 'other'"
   ]
  },
  {
   "cell_type": "code",
   "execution_count": 5,
   "metadata": {},
   "outputs": [],
   "source": [
    "def plot_data_distribution(data, variable, title, filename, figure_size = ((7,6))):\n",
    "    # Initialize the plot\n",
    "    plt.figure(figsize = figure_size)\n",
    "    \n",
    "    # Create the countplot\n",
    "    ax = sns.countplot(x=variable, data=data, palette='Set1', saturation=0.7, edgecolor='k', linewidth=1.5)\n",
    "    ax.set_xticklabels(ax.get_xticklabels(), rotation=40, ha=\"right\")\n",
    "    \n",
    "    # Set labels and title\n",
    "    ax.set_title(title, fontsize=18, pad=14)\n",
    "    ax.set_xlabel(variable, fontsize=20, labelpad=12)\n",
    "    ax.set_ylabel(\"Data volume\", fontsize=20, labelpad=10)\n",
    "    ax.tick_params(labelsize=15)\n",
    "    \n",
    "    # Save the figure\n",
    "    plt.tight_layout()\n",
    "    save_fig(f\"{filename}.png\")\n",
    "    plt.show()\n",
    "\n",
    "def plot_multi_label_distribution(data, variable, title, filename, figure_size = ((7,6))): \n",
    "    # Split the multi-label feature into individual labels\n",
    "    all_labels = data[variable].str.split(',', expand=True).stack().reset_index(drop=True)\n",
    "    \n",
    "    # Initialize the plot\n",
    "    plt.figure(figsize = figure_size)\n",
    "    \n",
    "    # Create the countplot for individual labels\n",
    "    ax = sns.countplot(x=all_labels, palette='Set1', saturation=0.7, edgecolor='k', linewidth=1.5, order=all_labels.value_counts().index)\n",
    "    ax.set_xticklabels(ax.get_xticklabels(), rotation=40, ha=\"right\")\n",
    "    \n",
    "    # Set labels and title\n",
    "    ax.set_title(title, fontsize=18, pad=14)\n",
    "    ax.set_xlabel(variable, fontsize=20, labelpad=12)\n",
    "    ax.set_ylabel(\"Data volume\", fontsize=20, labelpad=10)\n",
    "    ax.tick_params(labelsize=15)\n",
    "    \n",
    "    # Save the figure\n",
    "    plt.tight_layout()\n",
    "    save_fig(f\"{filename}.png\")\n",
    "    plt.show()\n",
    "\n",
    "# Example usage (you can run this in your local environment):\n",
    "# plot_multi_label_distribution(consolidated_dataset, 'assembly_industries', \n",
    "    # 'Distribution of Fusion Gallery Dataset per Industry', 'industries_distribution')"
   ]
  },
  {
   "cell_type": "code",
   "execution_count": 6,
   "metadata": {
    "ExecuteTime": {
     "end_time": "2023-07-07T19:06:47.712267400Z",
     "start_time": "2023-07-07T19:06:47.697235Z"
    },
    "collapsed": false,
    "jupyter": {
     "outputs_hidden": false
    },
    "pycharm": {
     "name": "#%%\n"
    }
   },
   "outputs": [],
   "source": [
    "def show_confusion_matrix(y_true, y_pred, classes=None, normalize=None):\n",
    "    cm = confusion_matrix(y_true, y_pred, normalize=normalize, labels=classes)\n",
    "    disp = ConfusionMatrixDisplay(confusion_matrix=cm, display_labels=classes)\n",
    "    disp.plot(xticks_rotation=45)\n",
    "    plt.tight_layout()\n",
    "    plt.show()"
   ]
  },
  {
   "cell_type": "markdown",
   "metadata": {
    "pycharm": {
     "name": "#%% md\n"
    }
   },
   "source": [
    "## Read the material and names of bodies in assemlies\n",
    "Loop through each of the 'assembly.json' files in the dataset, and read the name and material_categeory of each body in the assembly.\n",
    "As some bodies do not have a custom name, but the default name 'body#', we will filter those out as our LLM baseline cannot predict those."
   ]
  },
  {
   "cell_type": "markdown",
   "metadata": {},
   "source": [
    "### Inspect an individual json file"
   ]
  },
  {
   "cell_type": "code",
   "execution_count": 7,
   "metadata": {},
   "outputs": [],
   "source": [
    "# Load and inspect the contents of the provided assembly.json file again\n",
    "with open(\"D:\\Dataset\\\\ASME-Hackathon-2023-Autodesk\\\\train_data\\\\Fusion360GalleryDataset_23hackathon_train\\\\7780_6c885e81\\\\assembly.json\", \"r\") as file:\n",
    "    assembly_data = json.load(file)"
   ]
  },
  {
   "cell_type": "code",
   "execution_count": 8,
   "metadata": {},
   "outputs": [
    {
     "data": {
      "text/plain": [
       "{'tree': {'root': {'e3bf35b5-0608-11ec-b277-02052889e3af': {},\n",
       "   'e3bf83d8-0608-11ec-969c-02052889e3af': {},\n",
       "   'e3bfaae2-0608-11ec-9e7f-02052889e3af': {},\n",
       "   'e3bfd1f0-0608-11ec-878f-02052889e3af': {},\n",
       "   'e3bff8fe-0608-11ec-a2e3-02052889e3af': {},\n",
       "   'e3c02012-0608-11ec-8241-02052889e3af': {}}},\n",
       " 'root': {'component': 'e3bf0ea5-0608-11ec-a392-02052889e3af'}}"
      ]
     },
     "execution_count": 8,
     "metadata": {},
     "output_type": "execute_result"
    }
   ],
   "source": [
    "# Display some key-value pairs from the assembly_data dictionary for inspection\n",
    "dict(list(assembly_data.items())[:2])  # Display the first two entries for brevity"
   ]
  },
  {
   "cell_type": "code",
   "execution_count": 9,
   "metadata": {},
   "outputs": [
    {
     "data": {
      "text/plain": [
       "dict_keys(['tree', 'root', 'occurrences', 'components', 'bodies', 'as_built_joints', 'contacts', 'holes', 'properties'])"
      ]
     },
     "execution_count": 9,
     "metadata": {},
     "output_type": "execute_result"
    }
   ],
   "source": [
    "# Display the top-level keys of the assembly_data dictionary\n",
    "assembly_data.keys()"
   ]
  },
  {
   "cell_type": "code",
   "execution_count": 10,
   "metadata": {},
   "outputs": [
    {
     "data": {
      "text/plain": [
       "{'name': 'Body7',\n",
       " 'type': 'BRepBody',\n",
       " 'png': 'e397626e-0608-11ec-a470-02052889e3af.png',\n",
       " 'smt': 'e397626e-0608-11ec-a470-02052889e3af.smt',\n",
       " 'step': 'e397626e-0608-11ec-a470-02052889e3af.step',\n",
       " 'obj': 'e397626e-0608-11ec-a470-02052889e3af.obj',\n",
       " 'physical_properties': {'center_of_mass': {'type': 'Point3D',\n",
       "   'x': 0.25315821192952176,\n",
       "   'y': 0.03333797923237883,\n",
       "   'z': 2.7849977545097624},\n",
       "  'area': 19.067095914836415,\n",
       "  'volume': 1.128564254878852},\n",
       " 'material_category': 'Plastic'}"
      ]
     },
     "execution_count": 10,
     "metadata": {},
     "output_type": "execute_result"
    }
   ],
   "source": [
    "# Display a sample from the 'bodies' section for inspection\n",
    "sample_body = list(assembly_data['bodies'].values())[3]\n",
    "sample_body"
   ]
  },
  {
   "cell_type": "code",
   "execution_count": 11,
   "metadata": {},
   "outputs": [
    {
     "data": {
      "text/plain": [
       "(dict,\n",
       " ['e334f792-0608-11ec-8db2-02052889e3af',\n",
       "  'e35af5a4-0608-11ec-b52a-02052889e3af',\n",
       "  'e363cf40-0608-11ec-881d-02052889e3af',\n",
       "  'e397626e-0608-11ec-a470-02052889e3af',\n",
       "  'e398c200-0608-11ec-914e-02052889e3af',\n",
       "  'e399105e-0608-11ec-be9b-02052889e3af'],\n",
       " dict,\n",
       " ['name',\n",
       "  'bounding_box',\n",
       "  'vertex_count',\n",
       "  'edge_count',\n",
       "  'face_count',\n",
       "  'loop_count',\n",
       "  'shell_count',\n",
       "  'body_count',\n",
       "  'area',\n",
       "  'volume',\n",
       "  'density',\n",
       "  'mass',\n",
       "  'center_of_mass',\n",
       "  'principal_axes',\n",
       "  'xyz_moments_of_inertia',\n",
       "  'surface_types',\n",
       "  'vertex_valence',\n",
       "  'design_type',\n",
       "  'likes_count',\n",
       "  'comments_count',\n",
       "  'views_count',\n",
       "  'products',\n",
       "  'categories',\n",
       "  'industries'])"
      ]
     },
     "execution_count": 11,
     "metadata": {},
     "output_type": "execute_result"
    }
   ],
   "source": [
    "# Checking the type and structure of 'bodies' and 'properties'\n",
    "bodies_type = type(assembly_data['bodies'])\n",
    "properties_type = type(assembly_data['properties'])\n",
    "\n",
    "# If they are dictionaries, let's see some of their keys\n",
    "bodies_keys = list(assembly_data['bodies'].keys()) if isinstance(assembly_data['bodies'], dict) else None\n",
    "properties_keys = list(assembly_data['properties'].keys()) if isinstance(assembly_data['properties'], dict) else None\n",
    "\n",
    "bodies_type, bodies_keys, properties_type, properties_keys"
   ]
  },
  {
   "cell_type": "markdown",
   "metadata": {},
   "source": [
    "### Feature extraction for a single assembly"
   ]
  },
  {
   "cell_type": "code",
   "execution_count": 12,
   "metadata": {
    "scrolled": true
   },
   "outputs": [
    {
     "data": {
      "text/html": [
       "<div>\n",
       "<style scoped>\n",
       "    .dataframe tbody tr th:only-of-type {\n",
       "        vertical-align: middle;\n",
       "    }\n",
       "\n",
       "    .dataframe tbody tr th {\n",
       "        vertical-align: top;\n",
       "    }\n",
       "\n",
       "    .dataframe thead th {\n",
       "        text-align: right;\n",
       "    }\n",
       "</style>\n",
       "<table border=\"1\" class=\"dataframe\">\n",
       "  <thead>\n",
       "    <tr style=\"text-align: right;\">\n",
       "      <th></th>\n",
       "      <th>center_of_mass_x</th>\n",
       "      <th>center_of_mass_y</th>\n",
       "      <th>center_of_mass_z</th>\n",
       "      <th>area</th>\n",
       "      <th>volume</th>\n",
       "      <th>material_category</th>\n",
       "      <th>bounding_box_max_x</th>\n",
       "      <th>bounding_box_max_y</th>\n",
       "      <th>bounding_box_max_z</th>\n",
       "      <th>bounding_box_min_x</th>\n",
       "      <th>bounding_box_min_y</th>\n",
       "      <th>bounding_box_min_z</th>\n",
       "      <th>density</th>\n",
       "      <th>mass</th>\n",
       "      <th>design_type</th>\n",
       "    </tr>\n",
       "  </thead>\n",
       "  <tbody>\n",
       "    <tr>\n",
       "      <th>0</th>\n",
       "      <td>-0.687616</td>\n",
       "      <td>-0.943699</td>\n",
       "      <td>-2.616353</td>\n",
       "      <td>127.290229</td>\n",
       "      <td>6.192045</td>\n",
       "      <td>Metal_Ferrous</td>\n",
       "      <td>1.350337</td>\n",
       "      <td>1.697162</td>\n",
       "      <td>6.860314</td>\n",
       "      <td>-1.350337</td>\n",
       "      <td>-4.704273</td>\n",
       "      <td>-9.776691</td>\n",
       "      <td>0.004872</td>\n",
       "      <td>0.12046</td>\n",
       "      <td>ParametricDesignType</td>\n",
       "    </tr>\n",
       "    <tr>\n",
       "      <th>1</th>\n",
       "      <td>0.000004</td>\n",
       "      <td>1.384977</td>\n",
       "      <td>2.279890</td>\n",
       "      <td>14.215417</td>\n",
       "      <td>1.220741</td>\n",
       "      <td>Plastic</td>\n",
       "      <td>1.350337</td>\n",
       "      <td>1.697162</td>\n",
       "      <td>6.860314</td>\n",
       "      <td>-1.350337</td>\n",
       "      <td>-4.704273</td>\n",
       "      <td>-9.776691</td>\n",
       "      <td>0.004872</td>\n",
       "      <td>0.12046</td>\n",
       "      <td>ParametricDesignType</td>\n",
       "    </tr>\n",
       "    <tr>\n",
       "      <th>2</th>\n",
       "      <td>-0.000012</td>\n",
       "      <td>-1.983619</td>\n",
       "      <td>-5.985433</td>\n",
       "      <td>95.038657</td>\n",
       "      <td>8.699074</td>\n",
       "      <td>Plastic</td>\n",
       "      <td>1.350337</td>\n",
       "      <td>1.697162</td>\n",
       "      <td>6.860314</td>\n",
       "      <td>-1.350337</td>\n",
       "      <td>-4.704273</td>\n",
       "      <td>-9.776691</td>\n",
       "      <td>0.004872</td>\n",
       "      <td>0.12046</td>\n",
       "      <td>ParametricDesignType</td>\n",
       "    </tr>\n",
       "    <tr>\n",
       "      <th>3</th>\n",
       "      <td>0.253158</td>\n",
       "      <td>0.033338</td>\n",
       "      <td>2.784998</td>\n",
       "      <td>19.067096</td>\n",
       "      <td>1.128564</td>\n",
       "      <td>Plastic</td>\n",
       "      <td>1.350337</td>\n",
       "      <td>1.697162</td>\n",
       "      <td>6.860314</td>\n",
       "      <td>-1.350337</td>\n",
       "      <td>-4.704273</td>\n",
       "      <td>-9.776691</td>\n",
       "      <td>0.004872</td>\n",
       "      <td>0.12046</td>\n",
       "      <td>ParametricDesignType</td>\n",
       "    </tr>\n",
       "    <tr>\n",
       "      <th>4</th>\n",
       "      <td>0.000000</td>\n",
       "      <td>-0.051908</td>\n",
       "      <td>3.855522</td>\n",
       "      <td>16.260164</td>\n",
       "      <td>0.446419</td>\n",
       "      <td>Metal_Ferrous</td>\n",
       "      <td>1.350337</td>\n",
       "      <td>1.697162</td>\n",
       "      <td>6.860314</td>\n",
       "      <td>-1.350337</td>\n",
       "      <td>-4.704273</td>\n",
       "      <td>-9.776691</td>\n",
       "      <td>0.004872</td>\n",
       "      <td>0.12046</td>\n",
       "      <td>ParametricDesignType</td>\n",
       "    </tr>\n",
       "  </tbody>\n",
       "</table>\n",
       "</div>"
      ],
      "text/plain": [
       "   center_of_mass_x  center_of_mass_y  center_of_mass_z        area    volume  \\\n",
       "0         -0.687616         -0.943699         -2.616353  127.290229  6.192045   \n",
       "1          0.000004          1.384977          2.279890   14.215417  1.220741   \n",
       "2         -0.000012         -1.983619         -5.985433   95.038657  8.699074   \n",
       "3          0.253158          0.033338          2.784998   19.067096  1.128564   \n",
       "4          0.000000         -0.051908          3.855522   16.260164  0.446419   \n",
       "\n",
       "  material_category  bounding_box_max_x  bounding_box_max_y  \\\n",
       "0     Metal_Ferrous            1.350337            1.697162   \n",
       "1           Plastic            1.350337            1.697162   \n",
       "2           Plastic            1.350337            1.697162   \n",
       "3           Plastic            1.350337            1.697162   \n",
       "4     Metal_Ferrous            1.350337            1.697162   \n",
       "\n",
       "   bounding_box_max_z  bounding_box_min_x  bounding_box_min_y  \\\n",
       "0            6.860314           -1.350337           -4.704273   \n",
       "1            6.860314           -1.350337           -4.704273   \n",
       "2            6.860314           -1.350337           -4.704273   \n",
       "3            6.860314           -1.350337           -4.704273   \n",
       "4            6.860314           -1.350337           -4.704273   \n",
       "\n",
       "   bounding_box_min_z   density     mass           design_type  \n",
       "0           -9.776691  0.004872  0.12046  ParametricDesignType  \n",
       "1           -9.776691  0.004872  0.12046  ParametricDesignType  \n",
       "2           -9.776691  0.004872  0.12046  ParametricDesignType  \n",
       "3           -9.776691  0.004872  0.12046  ParametricDesignType  \n",
       "4           -9.776691  0.004872  0.12046  ParametricDesignType  "
      ]
     },
     "execution_count": 12,
     "metadata": {},
     "output_type": "execute_result"
    }
   ],
   "source": [
    "# Function to extract features from the 'bodies' and 'properties' sections\n",
    "def extract_features(data):\n",
    "    # Extracting features from 'bodies'\n",
    "    bodies_data = data['bodies']\n",
    "    features_list = []\n",
    "    for uuid, body_info in bodies_data.items():\n",
    "        features = {}\n",
    "        # features['uuid'] = uuid\n",
    "        # features['name'] = body_info['name']\n",
    "        # features['type'] = body_info['type']\n",
    "        # Extracting physical properties\n",
    "        physical_properties = body_info.get('physical_properties', {})\n",
    "        features['center_of_mass_x'] = physical_properties.get('center_of_mass', {}).get('x')\n",
    "        features['center_of_mass_y'] = physical_properties.get('center_of_mass', {}).get('y')\n",
    "        features['center_of_mass_z'] = physical_properties.get('center_of_mass', {}).get('z')\n",
    "        features['area'] = physical_properties.get('area')\n",
    "        features['volume'] = physical_properties.get('volume')\n",
    "        features['material_category'] = body_info.get('material_category')\n",
    "        \n",
    "        # Extracting properties\n",
    "        properties_data = data['properties']\n",
    "        features['bounding_box_max_x'] = properties_data.get('bounding_box', {}).get('max_point', {}).get('x')\n",
    "        features['bounding_box_max_y'] = properties_data.get('bounding_box', {}).get('max_point', {}).get('y')\n",
    "        features['bounding_box_max_z'] = properties_data.get('bounding_box', {}).get('max_point', {}).get('z')\n",
    "        features['bounding_box_min_x'] = properties_data.get('bounding_box', {}).get('min_point', {}).get('x')\n",
    "        features['bounding_box_min_y'] = properties_data.get('bounding_box', {}).get('min_point', {}).get('y')\n",
    "        features['bounding_box_min_z'] = properties_data.get('bounding_box', {}).get('min_point', {}).get('z')\n",
    "        features['density'] = properties_data.get('density')\n",
    "        features['mass'] = properties_data.get('mass')\n",
    "        features['design_type'] = properties_data.get('design_type')\n",
    "        \n",
    "        features_list.append(features)\n",
    "    \n",
    "    # Convert to a DataFrame\n",
    "    df = pd.DataFrame(features_list)\n",
    "    return df\n",
    "\n",
    "# Extract features from the data\n",
    "features_df = extract_features(assembly_data)\n",
    "features_df.head()"
   ]
  },
  {
   "cell_type": "code",
   "execution_count": 13,
   "metadata": {
    "scrolled": true
   },
   "outputs": [
    {
     "data": {
      "text/html": [
       "<div>\n",
       "<style scoped>\n",
       "    .dataframe tbody tr th:only-of-type {\n",
       "        vertical-align: middle;\n",
       "    }\n",
       "\n",
       "    .dataframe tbody tr th {\n",
       "        vertical-align: top;\n",
       "    }\n",
       "\n",
       "    .dataframe thead th {\n",
       "        text-align: right;\n",
       "    }\n",
       "</style>\n",
       "<table border=\"1\" class=\"dataframe\">\n",
       "  <thead>\n",
       "    <tr style=\"text-align: right;\">\n",
       "      <th></th>\n",
       "      <th>center_of_mass_x</th>\n",
       "      <th>center_of_mass_y</th>\n",
       "      <th>center_of_mass_z</th>\n",
       "      <th>body_area</th>\n",
       "      <th>body_volume</th>\n",
       "      <th>material_category</th>\n",
       "      <th>assembly_volume</th>\n",
       "      <th>assembly_mass</th>\n",
       "      <th>assembly_density</th>\n",
       "      <th>assembly_industries</th>\n",
       "    </tr>\n",
       "  </thead>\n",
       "  <tbody>\n",
       "    <tr>\n",
       "      <th>0</th>\n",
       "      <td>-0.687616</td>\n",
       "      <td>-0.943699</td>\n",
       "      <td>-2.616353</td>\n",
       "      <td>127.290229</td>\n",
       "      <td>6.192045</td>\n",
       "      <td>Metal_Ferrous</td>\n",
       "      <td>24.72483</td>\n",
       "      <td>0.12046</td>\n",
       "      <td>0.004872</td>\n",
       "      <td>Product Design &amp; Manufacturing</td>\n",
       "    </tr>\n",
       "    <tr>\n",
       "      <th>1</th>\n",
       "      <td>0.000004</td>\n",
       "      <td>1.384977</td>\n",
       "      <td>2.279890</td>\n",
       "      <td>14.215417</td>\n",
       "      <td>1.220741</td>\n",
       "      <td>Plastic</td>\n",
       "      <td>24.72483</td>\n",
       "      <td>0.12046</td>\n",
       "      <td>0.004872</td>\n",
       "      <td>Product Design &amp; Manufacturing</td>\n",
       "    </tr>\n",
       "    <tr>\n",
       "      <th>2</th>\n",
       "      <td>-0.000012</td>\n",
       "      <td>-1.983619</td>\n",
       "      <td>-5.985433</td>\n",
       "      <td>95.038657</td>\n",
       "      <td>8.699074</td>\n",
       "      <td>Plastic</td>\n",
       "      <td>24.72483</td>\n",
       "      <td>0.12046</td>\n",
       "      <td>0.004872</td>\n",
       "      <td>Product Design &amp; Manufacturing</td>\n",
       "    </tr>\n",
       "    <tr>\n",
       "      <th>3</th>\n",
       "      <td>0.253158</td>\n",
       "      <td>0.033338</td>\n",
       "      <td>2.784998</td>\n",
       "      <td>19.067096</td>\n",
       "      <td>1.128564</td>\n",
       "      <td>Plastic</td>\n",
       "      <td>24.72483</td>\n",
       "      <td>0.12046</td>\n",
       "      <td>0.004872</td>\n",
       "      <td>Product Design &amp; Manufacturing</td>\n",
       "    </tr>\n",
       "    <tr>\n",
       "      <th>4</th>\n",
       "      <td>0.000000</td>\n",
       "      <td>-0.051908</td>\n",
       "      <td>3.855522</td>\n",
       "      <td>16.260164</td>\n",
       "      <td>0.446419</td>\n",
       "      <td>Metal_Ferrous</td>\n",
       "      <td>24.72483</td>\n",
       "      <td>0.12046</td>\n",
       "      <td>0.004872</td>\n",
       "      <td>Product Design &amp; Manufacturing</td>\n",
       "    </tr>\n",
       "  </tbody>\n",
       "</table>\n",
       "</div>"
      ],
      "text/plain": [
       "   center_of_mass_x  center_of_mass_y  center_of_mass_z   body_area  \\\n",
       "0         -0.687616         -0.943699         -2.616353  127.290229   \n",
       "1          0.000004          1.384977          2.279890   14.215417   \n",
       "2         -0.000012         -1.983619         -5.985433   95.038657   \n",
       "3          0.253158          0.033338          2.784998   19.067096   \n",
       "4          0.000000         -0.051908          3.855522   16.260164   \n",
       "\n",
       "   body_volume material_category  assembly_volume  assembly_mass  \\\n",
       "0     6.192045     Metal_Ferrous         24.72483        0.12046   \n",
       "1     1.220741           Plastic         24.72483        0.12046   \n",
       "2     8.699074           Plastic         24.72483        0.12046   \n",
       "3     1.128564           Plastic         24.72483        0.12046   \n",
       "4     0.446419     Metal_Ferrous         24.72483        0.12046   \n",
       "\n",
       "   assembly_density             assembly_industries  \n",
       "0          0.004872  Product Design & Manufacturing  \n",
       "1          0.004872  Product Design & Manufacturing  \n",
       "2          0.004872  Product Design & Manufacturing  \n",
       "3          0.004872  Product Design & Manufacturing  \n",
       "4          0.004872  Product Design & Manufacturing  "
      ]
     },
     "execution_count": 13,
     "metadata": {},
     "output_type": "execute_result"
    }
   ],
   "source": [
    "def extract_enhanced_features(data):\n",
    "    # Extracting global features from 'properties'\n",
    "    global_properties = data['properties']\n",
    "    global_features = {\n",
    "        'assembly_volume': global_properties.get('volume'),\n",
    "        'assembly_mass': global_properties.get('mass'),\n",
    "        'assembly_density': global_properties.get('density'),\n",
    "        # 'assembly_design_type': global_properties.get('design_type'),\n",
    "        'assembly_industries': \",\".join(global_properties.get('industries', []))\n",
    "    }\n",
    "    \n",
    "    # Extracting features from 'bodies'\n",
    "    bodies_data = data['bodies']\n",
    "    features_list = []\n",
    "    for uuid, body_info in bodies_data.items():\n",
    "        features = {}\n",
    "        # features['uuid'] = uuid\n",
    "        # features['name'] = body_info['name']\n",
    "        # features['type'] = body_info['type']\n",
    "        # Extracting physical properties\n",
    "        physical_properties = body_info.get('physical_properties', {})\n",
    "        features['center_of_mass_x'] = physical_properties.get('center_of_mass', {}).get('x')\n",
    "        features['center_of_mass_y'] = physical_properties.get('center_of_mass', {}).get('y')\n",
    "        features['center_of_mass_z'] = physical_properties.get('center_of_mass', {}).get('z')\n",
    "        features['body_area'] = physical_properties.get('area')\n",
    "        features['body_volume'] = physical_properties.get('volume')\n",
    "        features['material_category'] = body_info.get('material_category')\n",
    "        \n",
    "        # Combining local and global features\n",
    "        features.update(global_features)\n",
    "        \n",
    "        features_list.append(features)\n",
    "    \n",
    "    # Convert to a DataFrame\n",
    "    df = pd.DataFrame(features_list)\n",
    "    return df\n",
    "\n",
    "# Extract enhanced features from the data\n",
    "enhanced_features_df = extract_enhanced_features(assembly_data)\n",
    "enhanced_features_df.head()"
   ]
  },
  {
   "cell_type": "markdown",
   "metadata": {},
   "source": [
    "## Feature extraction pipline"
   ]
  },
  {
   "cell_type": "code",
   "execution_count": 14,
   "metadata": {
    "ExecuteTime": {
     "end_time": "2023-07-07T17:19:12.873928300Z",
     "start_time": "2023-07-07T17:19:12.364977400Z"
    },
    "collapsed": false,
    "jupyter": {
     "outputs_hidden": false
    },
    "pycharm": {
     "name": "#%%\n"
    }
   },
   "outputs": [],
   "source": [
    "# input_dir = r\"D:\\FusionGallery\\Fusion360GalleryDataset_23hackathon\"  \n",
    "input_dir = r\"D:\\Dataset\\ASME-Hackathon-2023-Autodesk\\train_data\\Fusion360GalleryDataset_23hackathon_train\""
   ]
  },
  {
   "cell_type": "code",
   "execution_count": 15,
   "metadata": {},
   "outputs": [
    {
     "name": "stderr",
     "output_type": "stream",
     "text": [
      "100%|█████████████████████████████████████████████████████████████████████████████| 6337/6337 [00:15<00:00, 399.30it/s]\n"
     ]
    }
   ],
   "source": [
    "def process_assemblies(input_dir):\n",
    "    # Retrieve all the assembly JSON files from the directory\n",
    "    input_jsons = get_all_files(input_dir, \"*/assembly.json\")\n",
    "    \n",
    "    # This will store all the extracted features from all files\n",
    "    all_features = []\n",
    "    \n",
    "    for input_json in tqdm(input_jsons):\n",
    "        with open(input_json, \"r\", encoding=\"utf-8\") as f:\n",
    "            assembly_data = json.load(f)\n",
    "\n",
    "        # Extract features using our function\n",
    "        extracted_features = extract_enhanced_features(assembly_data)\n",
    "        \n",
    "        # # Add the assembly filename as an additional feature for traceability\n",
    "        # extracted_features['assembly_filename'] = str(input_json.parts[-2])\n",
    "        \n",
    "        all_features.append(extracted_features)\n",
    "    \n",
    "    # Concatenate all features into a single DataFrame\n",
    "    consolidated_df = pd.concat(all_features, ignore_index=True)\n",
    "    return consolidated_df\n",
    "\n",
    "# Modify the path according to your directory structure\n",
    "input_dir = r\"D:\\Dataset\\ASME-Hackathon-2023-Autodesk\\train_data\\Fusion360GalleryDataset_23hackathon_train\"\n",
    "# To test the function, you'd run:\n",
    "consolidated_dataset = process_assemblies(input_dir)"
   ]
  },
  {
   "cell_type": "code",
   "execution_count": 16,
   "metadata": {},
   "outputs": [
    {
     "data": {
      "text/html": [
       "<div>\n",
       "<style scoped>\n",
       "    .dataframe tbody tr th:only-of-type {\n",
       "        vertical-align: middle;\n",
       "    }\n",
       "\n",
       "    .dataframe tbody tr th {\n",
       "        vertical-align: top;\n",
       "    }\n",
       "\n",
       "    .dataframe thead th {\n",
       "        text-align: right;\n",
       "    }\n",
       "</style>\n",
       "<table border=\"1\" class=\"dataframe\">\n",
       "  <thead>\n",
       "    <tr style=\"text-align: right;\">\n",
       "      <th></th>\n",
       "      <th>center_of_mass_x</th>\n",
       "      <th>center_of_mass_y</th>\n",
       "      <th>center_of_mass_z</th>\n",
       "      <th>body_area</th>\n",
       "      <th>body_volume</th>\n",
       "      <th>material_category</th>\n",
       "      <th>assembly_volume</th>\n",
       "      <th>assembly_mass</th>\n",
       "      <th>assembly_density</th>\n",
       "      <th>assembly_industries</th>\n",
       "    </tr>\n",
       "  </thead>\n",
       "  <tbody>\n",
       "    <tr>\n",
       "      <th>0</th>\n",
       "      <td>9.170593e-16</td>\n",
       "      <td>2.846286</td>\n",
       "      <td>5.060009e-13</td>\n",
       "      <td>1.892846</td>\n",
       "      <td>0.064315</td>\n",
       "      <td>Plastic</td>\n",
       "      <td>0.214475</td>\n",
       "      <td>0.001684</td>\n",
       "      <td>0.00785</td>\n",
       "      <td>Product Design &amp; Manufacturing</td>\n",
       "    </tr>\n",
       "    <tr>\n",
       "      <th>1</th>\n",
       "      <td>-2.057905e-09</td>\n",
       "      <td>2.423258</td>\n",
       "      <td>-2.936297e-02</td>\n",
       "      <td>0.659531</td>\n",
       "      <td>0.007196</td>\n",
       "      <td>Metal_Ferrous_Steel</td>\n",
       "      <td>0.214475</td>\n",
       "      <td>0.001684</td>\n",
       "      <td>0.00785</td>\n",
       "      <td>Product Design &amp; Manufacturing</td>\n",
       "    </tr>\n",
       "    <tr>\n",
       "      <th>2</th>\n",
       "      <td>-2.066062e-09</td>\n",
       "      <td>2.421404</td>\n",
       "      <td>6.705135e-01</td>\n",
       "      <td>0.657318</td>\n",
       "      <td>0.007167</td>\n",
       "      <td>Metal_Non-Ferrous</td>\n",
       "      <td>0.214475</td>\n",
       "      <td>0.001684</td>\n",
       "      <td>0.00785</td>\n",
       "      <td>Product Design &amp; Manufacturing</td>\n",
       "    </tr>\n",
       "    <tr>\n",
       "      <th>3</th>\n",
       "      <td>9.170593e-16</td>\n",
       "      <td>2.846286</td>\n",
       "      <td>7.000000e-01</td>\n",
       "      <td>1.892846</td>\n",
       "      <td>0.064315</td>\n",
       "      <td>Other</td>\n",
       "      <td>0.214475</td>\n",
       "      <td>0.001684</td>\n",
       "      <td>0.00785</td>\n",
       "      <td>Product Design &amp; Manufacturing</td>\n",
       "    </tr>\n",
       "    <tr>\n",
       "      <th>4</th>\n",
       "      <td>9.170593e-16</td>\n",
       "      <td>2.846286</td>\n",
       "      <td>-7.000000e-01</td>\n",
       "      <td>1.892846</td>\n",
       "      <td>0.064315</td>\n",
       "      <td>Plastic</td>\n",
       "      <td>0.214475</td>\n",
       "      <td>0.001684</td>\n",
       "      <td>0.00785</td>\n",
       "      <td>Product Design &amp; Manufacturing</td>\n",
       "    </tr>\n",
       "    <tr>\n",
       "      <th>...</th>\n",
       "      <td>...</td>\n",
       "      <td>...</td>\n",
       "      <td>...</td>\n",
       "      <td>...</td>\n",
       "      <td>...</td>\n",
       "      <td>...</td>\n",
       "      <td>...</td>\n",
       "      <td>...</td>\n",
       "      <td>...</td>\n",
       "      <td>...</td>\n",
       "    </tr>\n",
       "    <tr>\n",
       "      <th>131252</th>\n",
       "      <td>6.132067e-01</td>\n",
       "      <td>0.000000</td>\n",
       "      <td>-2.670490e-11</td>\n",
       "      <td>1.729151</td>\n",
       "      <td>0.116680</td>\n",
       "      <td>Metal_Ferrous_Steel</td>\n",
       "      <td>299.830188</td>\n",
       "      <td>2.353667</td>\n",
       "      <td>0.00785</td>\n",
       "      <td>Product Design &amp; Manufacturing</td>\n",
       "    </tr>\n",
       "    <tr>\n",
       "      <th>131253</th>\n",
       "      <td>0.000000e+00</td>\n",
       "      <td>0.181651</td>\n",
       "      <td>1.007575e-11</td>\n",
       "      <td>0.129364</td>\n",
       "      <td>0.002853</td>\n",
       "      <td>Metal_Ferrous_Steel</td>\n",
       "      <td>299.830188</td>\n",
       "      <td>2.353667</td>\n",
       "      <td>0.00785</td>\n",
       "      <td>Product Design &amp; Manufacturing</td>\n",
       "    </tr>\n",
       "    <tr>\n",
       "      <th>131254</th>\n",
       "      <td>-6.182051e-17</td>\n",
       "      <td>-0.011000</td>\n",
       "      <td>8.108617e-12</td>\n",
       "      <td>0.016467</td>\n",
       "      <td>0.000024</td>\n",
       "      <td>Metal_Ferrous_Steel</td>\n",
       "      <td>299.830188</td>\n",
       "      <td>2.353667</td>\n",
       "      <td>0.00785</td>\n",
       "      <td>Product Design &amp; Manufacturing</td>\n",
       "    </tr>\n",
       "    <tr>\n",
       "      <th>131255</th>\n",
       "      <td>0.000000e+00</td>\n",
       "      <td>0.150000</td>\n",
       "      <td>1.045680e-11</td>\n",
       "      <td>0.109956</td>\n",
       "      <td>0.002356</td>\n",
       "      <td>Metal_Ferrous_Steel</td>\n",
       "      <td>299.830188</td>\n",
       "      <td>2.353667</td>\n",
       "      <td>0.00785</td>\n",
       "      <td>Product Design &amp; Manufacturing</td>\n",
       "    </tr>\n",
       "    <tr>\n",
       "      <th>131256</th>\n",
       "      <td>3.451123e-17</td>\n",
       "      <td>0.325000</td>\n",
       "      <td>-1.045678e-11</td>\n",
       "      <td>0.094248</td>\n",
       "      <td>0.001571</td>\n",
       "      <td>Metal_Ferrous_Steel</td>\n",
       "      <td>299.830188</td>\n",
       "      <td>2.353667</td>\n",
       "      <td>0.00785</td>\n",
       "      <td>Product Design &amp; Manufacturing</td>\n",
       "    </tr>\n",
       "  </tbody>\n",
       "</table>\n",
       "<p>131257 rows × 10 columns</p>\n",
       "</div>"
      ],
      "text/plain": [
       "        center_of_mass_x  center_of_mass_y  center_of_mass_z  body_area  \\\n",
       "0           9.170593e-16          2.846286      5.060009e-13   1.892846   \n",
       "1          -2.057905e-09          2.423258     -2.936297e-02   0.659531   \n",
       "2          -2.066062e-09          2.421404      6.705135e-01   0.657318   \n",
       "3           9.170593e-16          2.846286      7.000000e-01   1.892846   \n",
       "4           9.170593e-16          2.846286     -7.000000e-01   1.892846   \n",
       "...                  ...               ...               ...        ...   \n",
       "131252      6.132067e-01          0.000000     -2.670490e-11   1.729151   \n",
       "131253      0.000000e+00          0.181651      1.007575e-11   0.129364   \n",
       "131254     -6.182051e-17         -0.011000      8.108617e-12   0.016467   \n",
       "131255      0.000000e+00          0.150000      1.045680e-11   0.109956   \n",
       "131256      3.451123e-17          0.325000     -1.045678e-11   0.094248   \n",
       "\n",
       "        body_volume    material_category  assembly_volume  assembly_mass  \\\n",
       "0          0.064315              Plastic         0.214475       0.001684   \n",
       "1          0.007196  Metal_Ferrous_Steel         0.214475       0.001684   \n",
       "2          0.007167    Metal_Non-Ferrous         0.214475       0.001684   \n",
       "3          0.064315                Other         0.214475       0.001684   \n",
       "4          0.064315              Plastic         0.214475       0.001684   \n",
       "...             ...                  ...              ...            ...   \n",
       "131252     0.116680  Metal_Ferrous_Steel       299.830188       2.353667   \n",
       "131253     0.002853  Metal_Ferrous_Steel       299.830188       2.353667   \n",
       "131254     0.000024  Metal_Ferrous_Steel       299.830188       2.353667   \n",
       "131255     0.002356  Metal_Ferrous_Steel       299.830188       2.353667   \n",
       "131256     0.001571  Metal_Ferrous_Steel       299.830188       2.353667   \n",
       "\n",
       "       assembly_density             assembly_industries  \n",
       "0               0.00785  Product Design & Manufacturing  \n",
       "1               0.00785  Product Design & Manufacturing  \n",
       "2               0.00785  Product Design & Manufacturing  \n",
       "3               0.00785  Product Design & Manufacturing  \n",
       "4               0.00785  Product Design & Manufacturing  \n",
       "...                 ...                             ...  \n",
       "131252          0.00785  Product Design & Manufacturing  \n",
       "131253          0.00785  Product Design & Manufacturing  \n",
       "131254          0.00785  Product Design & Manufacturing  \n",
       "131255          0.00785  Product Design & Manufacturing  \n",
       "131256          0.00785  Product Design & Manufacturing  \n",
       "\n",
       "[131257 rows x 10 columns]"
      ]
     },
     "execution_count": 16,
     "metadata": {},
     "output_type": "execute_result"
    }
   ],
   "source": [
    "consolidated_dataset"
   ]
  },
  {
   "cell_type": "code",
   "execution_count": 17,
   "metadata": {},
   "outputs": [
    {
     "data": {
      "text/plain": [
       "array(['Plastic', 'Metal_Ferrous_Steel', 'Metal_Non-Ferrous', 'Other',\n",
       "       'Metal_Aluminum', 'Metal_Ferrous', 'Wood'], dtype=object)"
      ]
     },
     "execution_count": 17,
     "metadata": {},
     "output_type": "execute_result"
    }
   ],
   "source": [
    "consolidated_dataset['material_category'].unique()"
   ]
  },
  {
   "cell_type": "code",
   "execution_count": 18,
   "metadata": {
    "scrolled": true
   },
   "outputs": [
    {
     "name": "stdout",
     "output_type": "stream",
     "text": [
      "Saving figure material_category_distrubution.png\n"
     ]
    },
    {
     "name": "stderr",
     "output_type": "stream",
     "text": [
      "C:\\Users\\Asus\\AppData\\Local\\Temp\\ipykernel_17792\\1298109963.py:17: UserWarning: The figure layout has changed to tight\n",
      "  plt.tight_layout()\n"
     ]
    },
    {
     "data": {
      "image/png": "[encoded data removed]",
      "text/plain": [
       "<Figure size 700x600 with 1 Axes>"
      ]
     },
     "metadata": {},
     "output_type": "display_data"
    }
   ],
   "source": [
    "plot_data_distribution(consolidated_dataset, 'material_category', \n",
    "                       'Distribution of Dataset per material category', 'material_category_distrubution')"
   ]
  },
  {
   "cell_type": "code",
   "execution_count": 19,
   "metadata": {},
   "outputs": [
    {
     "name": "stdout",
     "output_type": "stream",
     "text": [
      "Saving figure industries_distribution.png\n"
     ]
    },
    {
     "name": "stderr",
     "output_type": "stream",
     "text": [
      "C:\\Users\\Asus\\AppData\\Local\\Temp\\ipykernel_17792\\1298109963.py:17: UserWarning: The figure layout has changed to tight\n",
      "  plt.tight_layout()\n"
     ]
    },
    {
     "data": {
      "image/png": "[encoded data removed]",
      "text/plain": [
       "<Figure size 1000x800 with 1 Axes>"
      ]
     },
     "metadata": {},
     "output_type": "display_data"
    }
   ],
   "source": [
    "plot_multi_label_distribution(consolidated_dataset, 'assembly_industries', \n",
    "                              'Distribution of Dataset per Industry', 'industries_distribution', figure_size = (10,8))"
   ]
  },
  {
   "cell_type": "code",
   "execution_count": 20,
   "metadata": {},
   "outputs": [
    {
     "data": {
      "text/plain": [
       "array(['Product Design & Manufacturing',\n",
       "       'Architecture, Engineering & Construction,Product Design & Manufacturing',\n",
       "       'Architecture, Engineering & Construction,Product Design & Manufacturing,Other Industries',\n",
       "       'Architecture, Engineering & Construction',\n",
       "       'Media & Entertainment',\n",
       "       'Product Design & Manufacturing,Other Industries',\n",
       "       'Architecture, Engineering & Construction,Other Industries',\n",
       "       'Other Industries',\n",
       "       'Architecture, Engineering & Construction,Media & Entertainment,Product Design & Manufacturing',\n",
       "       'Media & Entertainment,Other Industries',\n",
       "       'Media & Entertainment,Product Design & Manufacturing,Other Industries',\n",
       "       'Civil Infrastructure,Product Design & Manufacturing',\n",
       "       'Media & Entertainment,Product Design & Manufacturing',\n",
       "       'Civil Infrastructure,Product Design & Manufacturing,Other Industries',\n",
       "       'Architecture, Engineering & Construction,Civil Infrastructure,Product Design & Manufacturing,Other Industries',\n",
       "       'Architecture, Engineering & Construction,Media & Entertainment,Product Design & Manufacturing,Other Industries',\n",
       "       'Architecture, Engineering & Construction,Civil Infrastructure,Media & Entertainment,Product Design & Manufacturing,Other Industries',\n",
       "       'Architecture, Engineering & Construction,Media & Entertainment',\n",
       "       'Civil Infrastructure',\n",
       "       'Architecture, Engineering & Construction,Civil Infrastructure',\n",
       "       'Civil Infrastructure,Other Industries',\n",
       "       'Architecture, Engineering & Construction,Civil Infrastructure,Media & Entertainment,Product Design & Manufacturing',\n",
       "       'Architecture, Engineering & Construction,Civil Infrastructure,Other Industries',\n",
       "       'Civil Infrastructure,Media & Entertainment', '',\n",
       "       'Architecture, Engineering & Construction,Civil Infrastructure,Media & Entertainment',\n",
       "       'Architecture, Engineering & Construction,Civil Infrastructure,Product Design & Manufacturing'],\n",
       "      dtype=object)"
      ]
     },
     "execution_count": 20,
     "metadata": {},
     "output_type": "execute_result"
    }
   ],
   "source": [
    "consolidated_dataset['assembly_industries'].unique()"
   ]
  },
  {
   "cell_type": "code",
   "execution_count": 21,
   "metadata": {},
   "outputs": [],
   "source": [
    "# len(consolidated_dataset['name'].unique())"
   ]
  },
  {
   "cell_type": "markdown",
   "metadata": {},
   "source": [
    "## Data cleaning\n",
    "In this section, we will clean the dataset:\n",
    "- remove the missing values from the dataset, for example, there are around 800 missing density samples\n",
    "- identify abnormal values in the dataset, such as infinity or very large values in volume/density,etc"
   ]
  },
  {
   "cell_type": "markdown",
   "metadata": {},
   "source": [
    "### Check if there is any inf values"
   ]
  },
  {
   "cell_type": "code",
   "execution_count": 22,
   "metadata": {},
   "outputs": [
    {
     "data": {
      "text/plain": [
       "Series([], dtype: int64)"
      ]
     },
     "execution_count": 22,
     "metadata": {},
     "output_type": "execute_result"
    }
   ],
   "source": [
    "import numpy as np\n",
    "\n",
    "# Check for infinite values again\n",
    "infinite_values = (consolidated_dataset == np.inf) | (consolidated_dataset == -np.inf)\n",
    "\n",
    "# Count the infinite values in each column\n",
    "infinite_counts = infinite_values.sum()\n",
    "\n",
    "# Filter out columns with infinite values\n",
    "infinite_counts = infinite_counts[infinite_counts > 0]\n",
    "\n",
    "infinite_counts"
   ]
  },
  {
   "cell_type": "markdown",
   "metadata": {},
   "source": [
    "### Check if there is any abnormaly large/small  values"
   ]
  },
  {
   "cell_type": "code",
   "execution_count": 23,
   "metadata": {},
   "outputs": [
    {
     "data": {
      "text/plain": [
       "assembly_mass    14\n",
       "dtype: int64"
      ]
     },
     "execution_count": 23,
     "metadata": {},
     "output_type": "execute_result"
    }
   ],
   "source": [
    "# Identify columns with very large values\n",
    "large_values_threshold = 1e+30\n",
    "\n",
    "# Filter numeric columns only\n",
    "numeric_columns = consolidated_dataset.select_dtypes(include=[np.number])\n",
    "\n",
    "# Identify columns with very large values in the numeric subset\n",
    "large_values = (numeric_columns.abs() > large_values_threshold)\n",
    "\n",
    "# Count the large values in each column\n",
    "large_value_counts = large_values.sum()\n",
    "\n",
    "# Filter out columns with large values\n",
    "large_value_columns = large_value_counts[large_value_counts > 0]\n",
    "\n",
    "large_value_columns"
   ]
  },
  {
   "cell_type": "code",
   "execution_count": 24,
   "metadata": {
    "scrolled": true
   },
   "outputs": [
    {
     "data": {
      "text/html": [
       "<div>\n",
       "<style scoped>\n",
       "    .dataframe tbody tr th:only-of-type {\n",
       "        vertical-align: middle;\n",
       "    }\n",
       "\n",
       "    .dataframe tbody tr th {\n",
       "        vertical-align: top;\n",
       "    }\n",
       "\n",
       "    .dataframe thead th {\n",
       "        text-align: right;\n",
       "    }\n",
       "</style>\n",
       "<table border=\"1\" class=\"dataframe\">\n",
       "  <thead>\n",
       "    <tr style=\"text-align: right;\">\n",
       "      <th></th>\n",
       "      <th>assembly_mass</th>\n",
       "    </tr>\n",
       "  </thead>\n",
       "  <tbody>\n",
       "    <tr>\n",
       "      <th>40364</th>\n",
       "      <td>1.939507e+40</td>\n",
       "    </tr>\n",
       "    <tr>\n",
       "      <th>40365</th>\n",
       "      <td>1.939507e+40</td>\n",
       "    </tr>\n",
       "    <tr>\n",
       "      <th>40366</th>\n",
       "      <td>1.939507e+40</td>\n",
       "    </tr>\n",
       "    <tr>\n",
       "      <th>40367</th>\n",
       "      <td>1.939507e+40</td>\n",
       "    </tr>\n",
       "    <tr>\n",
       "      <th>40368</th>\n",
       "      <td>1.939507e+40</td>\n",
       "    </tr>\n",
       "    <tr>\n",
       "      <th>40369</th>\n",
       "      <td>1.939507e+40</td>\n",
       "    </tr>\n",
       "    <tr>\n",
       "      <th>40370</th>\n",
       "      <td>1.939507e+40</td>\n",
       "    </tr>\n",
       "    <tr>\n",
       "      <th>40371</th>\n",
       "      <td>1.939507e+40</td>\n",
       "    </tr>\n",
       "    <tr>\n",
       "      <th>44194</th>\n",
       "      <td>1.939507e+40</td>\n",
       "    </tr>\n",
       "    <tr>\n",
       "      <th>44195</th>\n",
       "      <td>1.939507e+40</td>\n",
       "    </tr>\n",
       "    <tr>\n",
       "      <th>44196</th>\n",
       "      <td>1.939507e+40</td>\n",
       "    </tr>\n",
       "    <tr>\n",
       "      <th>44197</th>\n",
       "      <td>1.939507e+40</td>\n",
       "    </tr>\n",
       "    <tr>\n",
       "      <th>44198</th>\n",
       "      <td>1.939507e+40</td>\n",
       "    </tr>\n",
       "    <tr>\n",
       "      <th>44199</th>\n",
       "      <td>1.939507e+40</td>\n",
       "    </tr>\n",
       "  </tbody>\n",
       "</table>\n",
       "</div>"
      ],
      "text/plain": [
       "       assembly_mass\n",
       "40364   1.939507e+40\n",
       "40365   1.939507e+40\n",
       "40366   1.939507e+40\n",
       "40367   1.939507e+40\n",
       "40368   1.939507e+40\n",
       "40369   1.939507e+40\n",
       "40370   1.939507e+40\n",
       "40371   1.939507e+40\n",
       "44194   1.939507e+40\n",
       "44195   1.939507e+40\n",
       "44196   1.939507e+40\n",
       "44197   1.939507e+40\n",
       "44198   1.939507e+40\n",
       "44199   1.939507e+40"
      ]
     },
     "execution_count": 24,
     "metadata": {},
     "output_type": "execute_result"
    }
   ],
   "source": [
    "abnormal_rows = consolidated_dataset[(consolidated_dataset['assembly_mass'] > large_values_threshold)]\n",
    "\n",
    "# Display the sample indices and the abnormal values\n",
    "abnormal_values = abnormal_rows[['assembly_mass']]\n",
    "abnormal_values"
   ]
  },
  {
   "cell_type": "code",
   "execution_count": 25,
   "metadata": {},
   "outputs": [
    {
     "data": {
      "text/plain": [
       "(131243, 10)"
      ]
     },
     "execution_count": 25,
     "metadata": {},
     "output_type": "execute_result"
    }
   ],
   "source": [
    "# Remove the identified abnormal samples\n",
    "consolidated_dataset_cleaned = consolidated_dataset.drop(abnormal_values.index)\n",
    "\n",
    "# Check the shape of the new cleaned dataset\n",
    "consolidated_dataset_cleaned.shape"
   ]
  },
  {
   "cell_type": "markdown",
   "metadata": {},
   "source": [
    "# Data Transformation \n",
    "\n",
    "Convert the extracted features into a format suitable for feeding into a machine learning model, i.e., a tabular form where each row represents a part and columns represent the feature.\n",
    "\n",
    "Before feeding the data to a machine learning model, it's essential to preprocess the textual and categorical features to ensure they're in a numerical format. Here's what we can do with those textual information:\n",
    "\n",
    "- __One-hot Encoding__ for Single Categorical Features: For features like ___assembly_design_type___, which have a single categorical value for each row, can use one-hot encoding. This technique will convert each unique category into a new binary column, where a \"1\" indicates the presence of that category and a \"0\" indicates its absence.\n",
    "- __Multi-label Binarization for multiple categoriacal features__: For features like ___assembly_industries___, which can have multiple values (or labels) in a single row, can use multi-label binarization. This technique will also convert each unique category into a new binary column, similar to one-hot encoding, but it can handle multiple \"1s\" in the same row.row."
   ]
  },
  {
   "cell_type": "code",
   "execution_count": 26,
   "metadata": {},
   "outputs": [
    {
     "data": {
      "text/html": [
       "<div>\n",
       "<style scoped>\n",
       "    .dataframe tbody tr th:only-of-type {\n",
       "        vertical-align: middle;\n",
       "    }\n",
       "\n",
       "    .dataframe tbody tr th {\n",
       "        vertical-align: top;\n",
       "    }\n",
       "\n",
       "    .dataframe thead th {\n",
       "        text-align: right;\n",
       "    }\n",
       "</style>\n",
       "<table border=\"1\" class=\"dataframe\">\n",
       "  <thead>\n",
       "    <tr style=\"text-align: right;\">\n",
       "      <th></th>\n",
       "      <th>center_of_mass_x</th>\n",
       "      <th>center_of_mass_y</th>\n",
       "      <th>center_of_mass_z</th>\n",
       "      <th>body_area</th>\n",
       "      <th>body_volume</th>\n",
       "      <th>material_category</th>\n",
       "      <th>assembly_volume</th>\n",
       "      <th>assembly_mass</th>\n",
       "      <th>assembly_density</th>\n",
       "      <th></th>\n",
       "      <th>Engineering &amp; Construction</th>\n",
       "      <th>Architecture</th>\n",
       "      <th>Civil Infrastructure</th>\n",
       "      <th>Media &amp; Entertainment</th>\n",
       "      <th>Other Industries</th>\n",
       "      <th>Product Design &amp; Manufacturing</th>\n",
       "    </tr>\n",
       "  </thead>\n",
       "  <tbody>\n",
       "    <tr>\n",
       "      <th>0</th>\n",
       "      <td>9.170593e-16</td>\n",
       "      <td>2.846286</td>\n",
       "      <td>5.060009e-13</td>\n",
       "      <td>1.892846</td>\n",
       "      <td>0.064315</td>\n",
       "      <td>Plastic</td>\n",
       "      <td>0.214475</td>\n",
       "      <td>0.001684</td>\n",
       "      <td>0.00785</td>\n",
       "      <td>0</td>\n",
       "      <td>0</td>\n",
       "      <td>0</td>\n",
       "      <td>0</td>\n",
       "      <td>0</td>\n",
       "      <td>0</td>\n",
       "      <td>1</td>\n",
       "    </tr>\n",
       "    <tr>\n",
       "      <th>1</th>\n",
       "      <td>-2.057905e-09</td>\n",
       "      <td>2.423258</td>\n",
       "      <td>-2.936297e-02</td>\n",
       "      <td>0.659531</td>\n",
       "      <td>0.007196</td>\n",
       "      <td>Metal_Ferrous_Steel</td>\n",
       "      <td>0.214475</td>\n",
       "      <td>0.001684</td>\n",
       "      <td>0.00785</td>\n",
       "      <td>0</td>\n",
       "      <td>0</td>\n",
       "      <td>0</td>\n",
       "      <td>0</td>\n",
       "      <td>0</td>\n",
       "      <td>0</td>\n",
       "      <td>1</td>\n",
       "    </tr>\n",
       "    <tr>\n",
       "      <th>2</th>\n",
       "      <td>-2.066062e-09</td>\n",
       "      <td>2.421404</td>\n",
       "      <td>6.705135e-01</td>\n",
       "      <td>0.657318</td>\n",
       "      <td>0.007167</td>\n",
       "      <td>Metal_Non-Ferrous</td>\n",
       "      <td>0.214475</td>\n",
       "      <td>0.001684</td>\n",
       "      <td>0.00785</td>\n",
       "      <td>0</td>\n",
       "      <td>0</td>\n",
       "      <td>0</td>\n",
       "      <td>0</td>\n",
       "      <td>0</td>\n",
       "      <td>0</td>\n",
       "      <td>1</td>\n",
       "    </tr>\n",
       "    <tr>\n",
       "      <th>3</th>\n",
       "      <td>9.170593e-16</td>\n",
       "      <td>2.846286</td>\n",
       "      <td>7.000000e-01</td>\n",
       "      <td>1.892846</td>\n",
       "      <td>0.064315</td>\n",
       "      <td>Other</td>\n",
       "      <td>0.214475</td>\n",
       "      <td>0.001684</td>\n",
       "      <td>0.00785</td>\n",
       "      <td>0</td>\n",
       "      <td>0</td>\n",
       "      <td>0</td>\n",
       "      <td>0</td>\n",
       "      <td>0</td>\n",
       "      <td>0</td>\n",
       "      <td>1</td>\n",
       "    </tr>\n",
       "    <tr>\n",
       "      <th>4</th>\n",
       "      <td>9.170593e-16</td>\n",
       "      <td>2.846286</td>\n",
       "      <td>-7.000000e-01</td>\n",
       "      <td>1.892846</td>\n",
       "      <td>0.064315</td>\n",
       "      <td>Plastic</td>\n",
       "      <td>0.214475</td>\n",
       "      <td>0.001684</td>\n",
       "      <td>0.00785</td>\n",
       "      <td>0</td>\n",
       "      <td>0</td>\n",
       "      <td>0</td>\n",
       "      <td>0</td>\n",
       "      <td>0</td>\n",
       "      <td>0</td>\n",
       "      <td>1</td>\n",
       "    </tr>\n",
       "    <tr>\n",
       "      <th>...</th>\n",
       "      <td>...</td>\n",
       "      <td>...</td>\n",
       "      <td>...</td>\n",
       "      <td>...</td>\n",
       "      <td>...</td>\n",
       "      <td>...</td>\n",
       "      <td>...</td>\n",
       "      <td>...</td>\n",
       "      <td>...</td>\n",
       "      <td>...</td>\n",
       "      <td>...</td>\n",
       "      <td>...</td>\n",
       "      <td>...</td>\n",
       "      <td>...</td>\n",
       "      <td>...</td>\n",
       "      <td>...</td>\n",
       "    </tr>\n",
       "    <tr>\n",
       "      <th>131252</th>\n",
       "      <td>6.132067e-01</td>\n",
       "      <td>0.000000</td>\n",
       "      <td>-2.670490e-11</td>\n",
       "      <td>1.729151</td>\n",
       "      <td>0.116680</td>\n",
       "      <td>Metal_Ferrous_Steel</td>\n",
       "      <td>299.830188</td>\n",
       "      <td>2.353667</td>\n",
       "      <td>0.00785</td>\n",
       "      <td>0</td>\n",
       "      <td>0</td>\n",
       "      <td>0</td>\n",
       "      <td>0</td>\n",
       "      <td>0</td>\n",
       "      <td>0</td>\n",
       "      <td>1</td>\n",
       "    </tr>\n",
       "    <tr>\n",
       "      <th>131253</th>\n",
       "      <td>0.000000e+00</td>\n",
       "      <td>0.181651</td>\n",
       "      <td>1.007575e-11</td>\n",
       "      <td>0.129364</td>\n",
       "      <td>0.002853</td>\n",
       "      <td>Metal_Ferrous_Steel</td>\n",
       "      <td>299.830188</td>\n",
       "      <td>2.353667</td>\n",
       "      <td>0.00785</td>\n",
       "      <td>0</td>\n",
       "      <td>0</td>\n",
       "      <td>0</td>\n",
       "      <td>0</td>\n",
       "      <td>0</td>\n",
       "      <td>0</td>\n",
       "      <td>1</td>\n",
       "    </tr>\n",
       "    <tr>\n",
       "      <th>131254</th>\n",
       "      <td>-6.182051e-17</td>\n",
       "      <td>-0.011000</td>\n",
       "      <td>8.108617e-12</td>\n",
       "      <td>0.016467</td>\n",
       "      <td>0.000024</td>\n",
       "      <td>Metal_Ferrous_Steel</td>\n",
       "      <td>299.830188</td>\n",
       "      <td>2.353667</td>\n",
       "      <td>0.00785</td>\n",
       "      <td>0</td>\n",
       "      <td>0</td>\n",
       "      <td>0</td>\n",
       "      <td>0</td>\n",
       "      <td>0</td>\n",
       "      <td>0</td>\n",
       "      <td>1</td>\n",
       "    </tr>\n",
       "    <tr>\n",
       "      <th>131255</th>\n",
       "      <td>0.000000e+00</td>\n",
       "      <td>0.150000</td>\n",
       "      <td>1.045680e-11</td>\n",
       "      <td>0.109956</td>\n",
       "      <td>0.002356</td>\n",
       "      <td>Metal_Ferrous_Steel</td>\n",
       "      <td>299.830188</td>\n",
       "      <td>2.353667</td>\n",
       "      <td>0.00785</td>\n",
       "      <td>0</td>\n",
       "      <td>0</td>\n",
       "      <td>0</td>\n",
       "      <td>0</td>\n",
       "      <td>0</td>\n",
       "      <td>0</td>\n",
       "      <td>1</td>\n",
       "    </tr>\n",
       "    <tr>\n",
       "      <th>131256</th>\n",
       "      <td>3.451123e-17</td>\n",
       "      <td>0.325000</td>\n",
       "      <td>-1.045678e-11</td>\n",
       "      <td>0.094248</td>\n",
       "      <td>0.001571</td>\n",
       "      <td>Metal_Ferrous_Steel</td>\n",
       "      <td>299.830188</td>\n",
       "      <td>2.353667</td>\n",
       "      <td>0.00785</td>\n",
       "      <td>0</td>\n",
       "      <td>0</td>\n",
       "      <td>0</td>\n",
       "      <td>0</td>\n",
       "      <td>0</td>\n",
       "      <td>0</td>\n",
       "      <td>1</td>\n",
       "    </tr>\n",
       "  </tbody>\n",
       "</table>\n",
       "<p>131243 rows × 16 columns</p>\n",
       "</div>"
      ],
      "text/plain": [
       "        center_of_mass_x  center_of_mass_y  center_of_mass_z  body_area  \\\n",
       "0           9.170593e-16          2.846286      5.060009e-13   1.892846   \n",
       "1          -2.057905e-09          2.423258     -2.936297e-02   0.659531   \n",
       "2          -2.066062e-09          2.421404      6.705135e-01   0.657318   \n",
       "3           9.170593e-16          2.846286      7.000000e-01   1.892846   \n",
       "4           9.170593e-16          2.846286     -7.000000e-01   1.892846   \n",
       "...                  ...               ...               ...        ...   \n",
       "131252      6.132067e-01          0.000000     -2.670490e-11   1.729151   \n",
       "131253      0.000000e+00          0.181651      1.007575e-11   0.129364   \n",
       "131254     -6.182051e-17         -0.011000      8.108617e-12   0.016467   \n",
       "131255      0.000000e+00          0.150000      1.045680e-11   0.109956   \n",
       "131256      3.451123e-17          0.325000     -1.045678e-11   0.094248   \n",
       "\n",
       "        body_volume    material_category  assembly_volume  assembly_mass  \\\n",
       "0          0.064315              Plastic         0.214475       0.001684   \n",
       "1          0.007196  Metal_Ferrous_Steel         0.214475       0.001684   \n",
       "2          0.007167    Metal_Non-Ferrous         0.214475       0.001684   \n",
       "3          0.064315                Other         0.214475       0.001684   \n",
       "4          0.064315              Plastic         0.214475       0.001684   \n",
       "...             ...                  ...              ...            ...   \n",
       "131252     0.116680  Metal_Ferrous_Steel       299.830188       2.353667   \n",
       "131253     0.002853  Metal_Ferrous_Steel       299.830188       2.353667   \n",
       "131254     0.000024  Metal_Ferrous_Steel       299.830188       2.353667   \n",
       "131255     0.002356  Metal_Ferrous_Steel       299.830188       2.353667   \n",
       "131256     0.001571  Metal_Ferrous_Steel       299.830188       2.353667   \n",
       "\n",
       "       assembly_density      Engineering & Construction  Architecture  \\\n",
       "0               0.00785  0                            0             0   \n",
       "1               0.00785  0                            0             0   \n",
       "2               0.00785  0                            0             0   \n",
       "3               0.00785  0                            0             0   \n",
       "4               0.00785  0                            0             0   \n",
       "...                 ... ..                          ...           ...   \n",
       "131252          0.00785  0                            0             0   \n",
       "131253          0.00785  0                            0             0   \n",
       "131254          0.00785  0                            0             0   \n",
       "131255          0.00785  0                            0             0   \n",
       "131256          0.00785  0                            0             0   \n",
       "\n",
       "        Civil Infrastructure  Media & Entertainment  Other Industries  \\\n",
       "0                          0                      0                 0   \n",
       "1                          0                      0                 0   \n",
       "2                          0                      0                 0   \n",
       "3                          0                      0                 0   \n",
       "4                          0                      0                 0   \n",
       "...                      ...                    ...               ...   \n",
       "131252                     0                      0                 0   \n",
       "131253                     0                      0                 0   \n",
       "131254                     0                      0                 0   \n",
       "131255                     0                      0                 0   \n",
       "131256                     0                      0                 0   \n",
       "\n",
       "        Product Design & Manufacturing  \n",
       "0                                    1  \n",
       "1                                    1  \n",
       "2                                    1  \n",
       "3                                    1  \n",
       "4                                    1  \n",
       "...                                ...  \n",
       "131252                               1  \n",
       "131253                               1  \n",
       "131254                               1  \n",
       "131255                               1  \n",
       "131256                               1  \n",
       "\n",
       "[131243 rows x 16 columns]"
      ]
     },
     "execution_count": 26,
     "metadata": {},
     "output_type": "execute_result"
    }
   ],
   "source": [
    "from sklearn.preprocessing import MultiLabelBinarizer\n",
    "\n",
    "def transform_features(dataset):\n",
    "    # One-Hot Encoding for 'assembly_design_type' and \"material_category\"\n",
    "    # dataset = pd.concat([dataset, pd.get_dummies(dataset['assembly_design_type'], prefix='design_type')], axis=1)\n",
    "    # dataset.drop(['assembly_design_type'], axis=1, inplace=True)\n",
    "    # dataset = pd.concat([dataset, pd.get_dummies(dataset['material_category'], prefix='material_category')], axis=1)\n",
    "    \n",
    "    # Multi-label Binarization for 'assembly_industries'\n",
    "    # First, split the comma-separated string into a list of labels\n",
    "    dataset['assembly_industries'] = dataset['assembly_industries'].str.split(',')\n",
    "    \n",
    "    mlb = MultiLabelBinarizer()\n",
    "    industries_encoded = mlb.fit_transform(dataset['assembly_industries'])\n",
    "    industries_df = pd.DataFrame(industries_encoded, columns=mlb.classes_, index=dataset.index)\n",
    "    \n",
    "    # Concatenate the original dataset with the transformed features\n",
    "    dataset = pd.concat([dataset, industries_df], axis=1)\n",
    "    dataset.drop(['assembly_industries'], axis=1, inplace=True)\n",
    "    # dataset.drop(['design_type_ParametricDesignType'], axis=1, inplace=True)\n",
    "    # dataset.drop(['assembly_filename'], axis=1, inplace=True)\n",
    "    return dataset\n",
    "\n",
    "# Apply the transformations\n",
    "transformed_dataset = transform_features(consolidated_dataset_cleaned)\n",
    "transformed_dataset"
   ]
  },
  {
   "cell_type": "code",
   "execution_count": 33,
   "metadata": {},
   "outputs": [],
   "source": [
    "transformed_dataset_cleaned = transformed_dataset.dropna()"
   ]
  },
  {
   "cell_type": "code",
   "execution_count": 34,
   "metadata": {},
   "outputs": [
    {
     "data": {
      "text/plain": [
       "Index(['center_of_mass_x', 'center_of_mass_y', 'center_of_mass_z', 'body_area',\n",
       "       'body_volume', 'material_category', 'assembly_volume', 'assembly_mass',\n",
       "       'assembly_density', '', ' Engineering & Construction', 'Architecture',\n",
       "       'Civil Infrastructure', 'Media & Entertainment', 'Other Industries',\n",
       "       'Product Design & Manufacturing'],\n",
       "      dtype='object')"
      ]
     },
     "execution_count": 34,
     "metadata": {},
     "output_type": "execute_result"
    }
   ],
   "source": [
    "transformed_dataset_cleaned.columns"
   ]
  },
  {
   "cell_type": "markdown",
   "metadata": {},
   "source": [
    "## Split the *train* set into *train* and *validation*"
   ]
  },
  {
   "cell_type": "code",
   "execution_count": 28,
   "metadata": {},
   "outputs": [
    {
     "name": "stdout",
     "output_type": "stream",
     "text": [
      "Training set size: 104994\n",
      "Validation set size: 26249\n"
     ]
    }
   ],
   "source": [
    "from sklearn.model_selection import train_test_split\n",
    "\n",
    "# Split the consolidated dataset into train and validation sets\n",
    "X = transformed_dataset.drop(columns=['material_category'])  # Features excluding the target variable\n",
    "y = transformed_dataset['material_category']  # Target variable\n",
    "\n",
    "X_train, X_val, y_train, y_val = train_test_split(X, y, test_size=0.2, shuffle=True, random_state=0)\n",
    "\n",
    "print(f\"Training set size: {len(X_train)}\")\n",
    "print(f\"Validation set size: {len(X_val)}\")"
   ]
  },
  {
   "cell_type": "markdown",
   "metadata": {},
   "source": [
    "# Save the transformed dataset"
   ]
  },
  {
   "cell_type": "code",
   "execution_count": 32,
   "metadata": {},
   "outputs": [],
   "source": [
    "transformed_dataset_cleaned.to_csv(os.path.join(Feature_PATH, \"extracted_feature_v1.csv\"))\n",
    "consolidated_dataset_cleaned.to_csv(os.path.join(Feature_PATH, \"consolidated_dataset_v1.csv\"))"
   ]
  }
 ],
 "metadata": {
  "kernelspec": {
   "display_name": "Python 3 (ipykernel)",
   "language": "python",
   "name": "python3"
  },
  "language_info": {
   "codemirror_mode": {
    "name": "ipython",
    "version": 3
   },
   "file_extension": ".py",
   "mimetype": "text/x-python",
   "name": "python",
   "nbconvert_exporter": "python",
   "pygments_lexer": "ipython3",
   "version": "3.8.10"
  }
 },
 "nbformat": 4,
 "nbformat_minor": 4
}
